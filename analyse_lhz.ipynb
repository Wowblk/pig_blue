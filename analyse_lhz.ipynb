{
 "cells": [
  {
   "cell_type": "code",
   "execution_count": 16,
   "metadata": {
    "collapsed": true,
    "ExecuteTime": {
     "end_time": "2023-05-01T08:46:48.437469300Z",
     "start_time": "2023-05-01T08:46:48.390180700Z"
    }
   },
   "outputs": [],
   "source": [
    "import numpy as np\n",
    "import pandas as pd\n",
    "import matplotlib.pyplot as plt"
   ]
  },
  {
   "cell_type": "code",
   "execution_count": null,
   "outputs": [],
   "source": [
    "one = pd.read_csv(\"D:\\WorkSpace\\Code\\Python\\EnergyTrans\\dataset\\country\\WDICountryOrRegion.csv\")\n",
    "one"
   ],
   "metadata": {
    "collapsed": false
   }
  },
  {
   "cell_type": "code",
   "execution_count": null,
   "outputs": [],
   "source": [
    "one.dtypes"
   ],
   "metadata": {
    "collapsed": false
   }
  },
  {
   "cell_type": "code",
   "execution_count": null,
   "outputs": [],
   "source": [
    "two = pd.read_csv(\"D:\\WorkSpace\\Code\\Python\\EnergyTrans\\dataset\\country\\WDICountryOrRegion-Series.csv\")\n",
    "two"
   ],
   "metadata": {
    "collapsed": false
   }
  },
  {
   "cell_type": "code",
   "execution_count": null,
   "outputs": [],
   "source": [
    "two.dtypes"
   ],
   "metadata": {
    "collapsed": false
   }
  },
  {
   "cell_type": "code",
   "execution_count": null,
   "outputs": [],
   "source": [
    "three = pd.read_csv(\"D:\\WorkSpace\\Code\\Python\\EnergyTrans\\dataset\\country\\WDIData.csv\")\n",
    "three"
   ],
   "metadata": {
    "collapsed": false
   }
  },
  {
   "cell_type": "code",
   "execution_count": null,
   "outputs": [],
   "source": [
    "three.dtypes"
   ],
   "metadata": {
    "collapsed": false
   }
  },
  {
   "cell_type": "code",
   "execution_count": null,
   "outputs": [],
   "source": [
    "three[\"Indicator Name\"].value_counts() # Indicator Name 为后面数据的说明"
   ],
   "metadata": {
    "collapsed": false
   }
  },
  {
   "cell_type": "code",
   "execution_count": null,
   "outputs": [],
   "source": [
    "four = pd.read_csv(\"D:\\WorkSpace\\Code\\Python\\EnergyTrans\\dataset\\country\\WDIFootNote.csv\")\n",
    "four"
   ],
   "metadata": {
    "collapsed": false
   }
  },
  {
   "cell_type": "code",
   "execution_count": null,
   "outputs": [],
   "source": [
    "five = pd.read_csv(\"D:\\WorkSpace\\Code\\Python\\EnergyTrans\\dataset\\country\\WDISeries.csv\") # 暂时还不知道这个文件是用来干嘛的\n",
    "five"
   ],
   "metadata": {
    "collapsed": false
   }
  },
  {
   "cell_type": "code",
   "execution_count": null,
   "outputs": [],
   "source": [
    "five.dtypes"
   ],
   "metadata": {
    "collapsed": false
   }
  },
  {
   "cell_type": "code",
   "execution_count": null,
   "outputs": [],
   "source": [
    "six = pd.read_csv(\"D:\\WorkSpace\\Code\\Python\\EnergyTrans\\dataset\\country\\WDISeries-Time.csv\")\n",
    "six"
   ],
   "metadata": {
    "collapsed": false
   }
  },
  {
   "cell_type": "code",
   "execution_count": null,
   "outputs": [],
   "source": [
    "six.dtypes"
   ],
   "metadata": {
    "collapsed": false
   }
  },
  {
   "cell_type": "code",
   "execution_count": null,
   "outputs": [],
   "source": [
    "emi = pd.read_csv(\"D:\\WorkSpace\\Code\\Python\\EnergyTrans\\dataset\\emission\\Greenhouse_Gas.csv\")\n",
    "emi"
   ],
   "metadata": {
    "collapsed": false
   }
  },
  {
   "cell_type": "code",
   "execution_count": null,
   "outputs": [],
   "source": [
    "emi.dtypes"
   ],
   "metadata": {
    "collapsed": false
   }
  },
  {
   "cell_type": "code",
   "execution_count": 3,
   "outputs": [
    {
     "data": {
      "text/plain": "        Country  Year ISO3166_alpha3  ISO3166_numeric              Region  \\\n0        Brazil  2004            BRA             76.0  S. & Cent. America   \n1        Brazil  2005            BRA             76.0  S. & Cent. America   \n2        Brazil  2006            BRA             76.0  S. & Cent. America   \n3        Brazil  2007            BRA             76.0  S. & Cent. America   \n4        Brazil  2008            BRA             76.0  S. & Cent. America   \n...         ...   ...            ...              ...                 ...   \n277090  Vietnam  2017            VNM            704.0        Asia Pacific   \n277091  Vietnam  2018            VNM            704.0        Asia Pacific   \n277092  Vietnam  2019            VNM            704.0        Asia Pacific   \n277093  Vietnam  2020            VNM            704.0        Asia Pacific   \n277094  Vietnam  2021            VNM            704.0        Asia Pacific   \n\n            SubRegion  OPEC   EU  OECD  CIS                   Var      Value  \n0       South America   0.0  0.0   0.0  0.0  biodiesel_cons_kboed   0.000000  \n1       South America   0.0  0.0   0.0  0.0  biodiesel_cons_kboed   0.014737  \n2       South America   0.0  0.0   0.0  0.0  biodiesel_cons_kboed   1.016887  \n3       South America   0.0  0.0   0.0  0.0  biodiesel_cons_kboed   5.953947  \n4       South America   0.0  0.0   0.0  0.0  biodiesel_cons_kboed  16.534379  \n...               ...   ...  ...   ...  ...                   ...        ...  \n277090   Asia Pacific   0.0  0.0   0.0  0.0          wind_twh_net   0.346500  \n277091   Asia Pacific   0.0  0.0   0.0  0.0          wind_twh_net   0.482130  \n277092   Asia Pacific   0.0  0.0   0.0  0.0          wind_twh_net   0.714780  \n277093   Asia Pacific   0.0  0.0   0.0  0.0          wind_twh_net   1.063052  \n277094   Asia Pacific   0.0  0.0   0.0  0.0          wind_twh_net   2.367697  \n\n[277095 rows x 12 columns]",
      "text/html": "<div>\n<style scoped>\n    .dataframe tbody tr th:only-of-type {\n        vertical-align: middle;\n    }\n\n    .dataframe tbody tr th {\n        vertical-align: top;\n    }\n\n    .dataframe thead th {\n        text-align: right;\n    }\n</style>\n<table border=\"1\" class=\"dataframe\">\n  <thead>\n    <tr style=\"text-align: right;\">\n      <th></th>\n      <th>Country</th>\n      <th>Year</th>\n      <th>ISO3166_alpha3</th>\n      <th>ISO3166_numeric</th>\n      <th>Region</th>\n      <th>SubRegion</th>\n      <th>OPEC</th>\n      <th>EU</th>\n      <th>OECD</th>\n      <th>CIS</th>\n      <th>Var</th>\n      <th>Value</th>\n    </tr>\n  </thead>\n  <tbody>\n    <tr>\n      <th>0</th>\n      <td>Brazil</td>\n      <td>2004</td>\n      <td>BRA</td>\n      <td>76.0</td>\n      <td>S. &amp; Cent. America</td>\n      <td>South America</td>\n      <td>0.0</td>\n      <td>0.0</td>\n      <td>0.0</td>\n      <td>0.0</td>\n      <td>biodiesel_cons_kboed</td>\n      <td>0.000000</td>\n    </tr>\n    <tr>\n      <th>1</th>\n      <td>Brazil</td>\n      <td>2005</td>\n      <td>BRA</td>\n      <td>76.0</td>\n      <td>S. &amp; Cent. America</td>\n      <td>South America</td>\n      <td>0.0</td>\n      <td>0.0</td>\n      <td>0.0</td>\n      <td>0.0</td>\n      <td>biodiesel_cons_kboed</td>\n      <td>0.014737</td>\n    </tr>\n    <tr>\n      <th>2</th>\n      <td>Brazil</td>\n      <td>2006</td>\n      <td>BRA</td>\n      <td>76.0</td>\n      <td>S. &amp; Cent. America</td>\n      <td>South America</td>\n      <td>0.0</td>\n      <td>0.0</td>\n      <td>0.0</td>\n      <td>0.0</td>\n      <td>biodiesel_cons_kboed</td>\n      <td>1.016887</td>\n    </tr>\n    <tr>\n      <th>3</th>\n      <td>Brazil</td>\n      <td>2007</td>\n      <td>BRA</td>\n      <td>76.0</td>\n      <td>S. &amp; Cent. America</td>\n      <td>South America</td>\n      <td>0.0</td>\n      <td>0.0</td>\n      <td>0.0</td>\n      <td>0.0</td>\n      <td>biodiesel_cons_kboed</td>\n      <td>5.953947</td>\n    </tr>\n    <tr>\n      <th>4</th>\n      <td>Brazil</td>\n      <td>2008</td>\n      <td>BRA</td>\n      <td>76.0</td>\n      <td>S. &amp; Cent. America</td>\n      <td>South America</td>\n      <td>0.0</td>\n      <td>0.0</td>\n      <td>0.0</td>\n      <td>0.0</td>\n      <td>biodiesel_cons_kboed</td>\n      <td>16.534379</td>\n    </tr>\n    <tr>\n      <th>...</th>\n      <td>...</td>\n      <td>...</td>\n      <td>...</td>\n      <td>...</td>\n      <td>...</td>\n      <td>...</td>\n      <td>...</td>\n      <td>...</td>\n      <td>...</td>\n      <td>...</td>\n      <td>...</td>\n      <td>...</td>\n    </tr>\n    <tr>\n      <th>277090</th>\n      <td>Vietnam</td>\n      <td>2017</td>\n      <td>VNM</td>\n      <td>704.0</td>\n      <td>Asia Pacific</td>\n      <td>Asia Pacific</td>\n      <td>0.0</td>\n      <td>0.0</td>\n      <td>0.0</td>\n      <td>0.0</td>\n      <td>wind_twh_net</td>\n      <td>0.346500</td>\n    </tr>\n    <tr>\n      <th>277091</th>\n      <td>Vietnam</td>\n      <td>2018</td>\n      <td>VNM</td>\n      <td>704.0</td>\n      <td>Asia Pacific</td>\n      <td>Asia Pacific</td>\n      <td>0.0</td>\n      <td>0.0</td>\n      <td>0.0</td>\n      <td>0.0</td>\n      <td>wind_twh_net</td>\n      <td>0.482130</td>\n    </tr>\n    <tr>\n      <th>277092</th>\n      <td>Vietnam</td>\n      <td>2019</td>\n      <td>VNM</td>\n      <td>704.0</td>\n      <td>Asia Pacific</td>\n      <td>Asia Pacific</td>\n      <td>0.0</td>\n      <td>0.0</td>\n      <td>0.0</td>\n      <td>0.0</td>\n      <td>wind_twh_net</td>\n      <td>0.714780</td>\n    </tr>\n    <tr>\n      <th>277093</th>\n      <td>Vietnam</td>\n      <td>2020</td>\n      <td>VNM</td>\n      <td>704.0</td>\n      <td>Asia Pacific</td>\n      <td>Asia Pacific</td>\n      <td>0.0</td>\n      <td>0.0</td>\n      <td>0.0</td>\n      <td>0.0</td>\n      <td>wind_twh_net</td>\n      <td>1.063052</td>\n    </tr>\n    <tr>\n      <th>277094</th>\n      <td>Vietnam</td>\n      <td>2021</td>\n      <td>VNM</td>\n      <td>704.0</td>\n      <td>Asia Pacific</td>\n      <td>Asia Pacific</td>\n      <td>0.0</td>\n      <td>0.0</td>\n      <td>0.0</td>\n      <td>0.0</td>\n      <td>wind_twh_net</td>\n      <td>2.367697</td>\n    </tr>\n  </tbody>\n</table>\n<p>277095 rows × 12 columns</p>\n</div>"
     },
     "execution_count": 3,
     "metadata": {},
     "output_type": "execute_result"
    }
   ],
   "source": [
    "a = pd.read_csv(r\"D:\\WorkSpace\\Code\\Python\\EnergyTrans\\dataset\\emission\\bp-stats-review-2022-consolidated-dataset-narrow-format.csv\")\n",
    "a"
   ],
   "metadata": {
    "collapsed": false,
    "ExecuteTime": {
     "end_time": "2023-05-01T05:06:43.659049800Z",
     "start_time": "2023-05-01T05:06:42.999714Z"
    }
   }
  },
  {
   "cell_type": "code",
   "execution_count": 8,
   "outputs": [
    {
     "data": {
      "text/plain": "      Country  Year ISO3166_alpha3  ISO3166_numeric        Region  \\\n27737   China  1965            CHN            156.0  Asia Pacific   \n27738   China  1966            CHN            156.0  Asia Pacific   \n27739   China  1967            CHN            156.0  Asia Pacific   \n27740   China  1968            CHN            156.0  Asia Pacific   \n27741   China  1969            CHN            156.0  Asia Pacific   \n27742   China  1970            CHN            156.0  Asia Pacific   \n27743   China  1971            CHN            156.0  Asia Pacific   \n27744   China  1972            CHN            156.0  Asia Pacific   \n27745   China  1973            CHN            156.0  Asia Pacific   \n27746   China  1974            CHN            156.0  Asia Pacific   \n27747   China  1975            CHN            156.0  Asia Pacific   \n27748   China  1976            CHN            156.0  Asia Pacific   \n27749   China  1977            CHN            156.0  Asia Pacific   \n27750   China  1978            CHN            156.0  Asia Pacific   \n27751   China  1979            CHN            156.0  Asia Pacific   \n27752   China  1980            CHN            156.0  Asia Pacific   \n27753   China  1981            CHN            156.0  Asia Pacific   \n27754   China  1982            CHN            156.0  Asia Pacific   \n27755   China  1983            CHN            156.0  Asia Pacific   \n27756   China  1984            CHN            156.0  Asia Pacific   \n27757   China  1985            CHN            156.0  Asia Pacific   \n27758   China  1986            CHN            156.0  Asia Pacific   \n27759   China  1987            CHN            156.0  Asia Pacific   \n27760   China  1988            CHN            156.0  Asia Pacific   \n27761   China  1989            CHN            156.0  Asia Pacific   \n27762   China  1990            CHN            156.0  Asia Pacific   \n27763   China  1991            CHN            156.0  Asia Pacific   \n27764   China  1992            CHN            156.0  Asia Pacific   \n27765   China  1993            CHN            156.0  Asia Pacific   \n27766   China  1994            CHN            156.0  Asia Pacific   \n27767   China  1995            CHN            156.0  Asia Pacific   \n27768   China  1996            CHN            156.0  Asia Pacific   \n27769   China  1997            CHN            156.0  Asia Pacific   \n27770   China  1998            CHN            156.0  Asia Pacific   \n27771   China  1999            CHN            156.0  Asia Pacific   \n27772   China  2000            CHN            156.0  Asia Pacific   \n27773   China  2001            CHN            156.0  Asia Pacific   \n27774   China  2002            CHN            156.0  Asia Pacific   \n27775   China  2003            CHN            156.0  Asia Pacific   \n27776   China  2004            CHN            156.0  Asia Pacific   \n27777   China  2005            CHN            156.0  Asia Pacific   \n27778   China  2006            CHN            156.0  Asia Pacific   \n27779   China  2007            CHN            156.0  Asia Pacific   \n27780   China  2008            CHN            156.0  Asia Pacific   \n27781   China  2009            CHN            156.0  Asia Pacific   \n27782   China  2010            CHN            156.0  Asia Pacific   \n27783   China  2011            CHN            156.0  Asia Pacific   \n27784   China  2012            CHN            156.0  Asia Pacific   \n27785   China  2013            CHN            156.0  Asia Pacific   \n27786   China  2014            CHN            156.0  Asia Pacific   \n27787   China  2015            CHN            156.0  Asia Pacific   \n27788   China  2016            CHN            156.0  Asia Pacific   \n27789   China  2017            CHN            156.0  Asia Pacific   \n27790   China  2018            CHN            156.0  Asia Pacific   \n27791   China  2019            CHN            156.0  Asia Pacific   \n27792   China  2020            CHN            156.0  Asia Pacific   \n27793   China  2021            CHN            156.0  Asia Pacific   \n\n          SubRegion  OPEC   EU  OECD  CIS                Var         Value  \n27737  Asia Pacific   0.0  0.0   0.0  0.0  co2_combust_mtco2    488.525419  \n27738  Asia Pacific   0.0  0.0   0.0  0.0  co2_combust_mtco2    530.349044  \n27739  Asia Pacific   0.0  0.0   0.0  0.0  co2_combust_mtco2    475.920674  \n27740  Asia Pacific   0.0  0.0   0.0  0.0  co2_combust_mtco2    476.682790  \n27741  Asia Pacific   0.0  0.0   0.0  0.0  co2_combust_mtco2    582.473700  \n27742  Asia Pacific   0.0  0.0   0.0  0.0  co2_combust_mtco2    748.507130  \n27743  Asia Pacific   0.0  0.0   0.0  0.0  co2_combust_mtco2    881.701156  \n27744  Asia Pacific   0.0  0.0   0.0  0.0  co2_combust_mtco2    945.376724  \n27745  Asia Pacific   0.0  0.0   0.0  0.0  co2_combust_mtco2    987.002301  \n27746  Asia Pacific   0.0  0.0   0.0  0.0  co2_combust_mtco2   1006.768535  \n27747  Asia Pacific   0.0  0.0   0.0  0.0  co2_combust_mtco2   1131.272789  \n27748  Asia Pacific   0.0  0.0   0.0  0.0  co2_combust_mtco2   1183.141392  \n27749  Asia Pacific   0.0  0.0   0.0  0.0  co2_combust_mtco2   1293.548111  \n27750  Asia Pacific   0.0  0.0   0.0  0.0  co2_combust_mtco2   1418.532587  \n27751  Asia Pacific   0.0  0.0   0.0  0.0  co2_combust_mtco2   1458.454221  \n27752  Asia Pacific   0.0  0.0   0.0  0.0  co2_combust_mtco2   1460.868760  \n27753  Asia Pacific   0.0  0.0   0.0  0.0  co2_combust_mtco2   1438.274310  \n27754  Asia Pacific   0.0  0.0   0.0  0.0  co2_combust_mtco2   1502.026966  \n27755  Asia Pacific   0.0  0.0   0.0  0.0  co2_combust_mtco2   1596.663040  \n27756  Asia Pacific   0.0  0.0   0.0  0.0  co2_combust_mtco2   1722.027451  \n27757  Asia Pacific   0.0  0.0   0.0  0.0  co2_combust_mtco2   1821.737468  \n27758  Asia Pacific   0.0  0.0   0.0  0.0  co2_combust_mtco2   1903.607082  \n27759  Asia Pacific   0.0  0.0   0.0  0.0  co2_combust_mtco2   2048.107959  \n27760  Asia Pacific   0.0  0.0   0.0  0.0  co2_combust_mtco2   2196.815705  \n27761  Asia Pacific   0.0  0.0   0.0  0.0  co2_combust_mtco2   2295.043997  \n27762  Asia Pacific   0.0  0.0   0.0  0.0  co2_combust_mtco2   2308.792718  \n27763  Asia Pacific   0.0  0.0   0.0  0.0  co2_combust_mtco2   2439.954399  \n27764  Asia Pacific   0.0  0.0   0.0  0.0  co2_combust_mtco2   2562.756165  \n27765  Asia Pacific   0.0  0.0   0.0  0.0  co2_combust_mtco2   2769.614393  \n27766  Asia Pacific   0.0  0.0   0.0  0.0  co2_combust_mtco2   2921.357545  \n27767  Asia Pacific   0.0  0.0   0.0  0.0  co2_combust_mtco2   3009.163395  \n27768  Asia Pacific   0.0  0.0   0.0  0.0  co2_combust_mtco2   3156.655144  \n27769  Asia Pacific   0.0  0.0   0.0  0.0  co2_combust_mtco2   3142.331400  \n27770  Asia Pacific   0.0  0.0   0.0  0.0  co2_combust_mtco2   3139.807993  \n27771  Asia Pacific   0.0  0.0   0.0  0.0  co2_combust_mtco2   3268.473902  \n27772  Asia Pacific   0.0  0.0   0.0  0.0  co2_combust_mtco2   3327.983977  \n27773  Asia Pacific   0.0  0.0   0.0  0.0  co2_combust_mtco2   3489.727218  \n27774  Asia Pacific   0.0  0.0   0.0  0.0  co2_combust_mtco2   3809.263974  \n27775  Asia Pacific   0.0  0.0   0.0  0.0  co2_combust_mtco2   4494.135943  \n27776  Asia Pacific   0.0  0.0   0.0  0.0  co2_combust_mtco2   5317.167767  \n27777  Asia Pacific   0.0  0.0   0.0  0.0  co2_combust_mtco2   6079.259496  \n27778  Asia Pacific   0.0  0.0   0.0  0.0  co2_combust_mtco2   6659.973623  \n27779  Asia Pacific   0.0  0.0   0.0  0.0  co2_combust_mtco2   7217.139095  \n27780  Asia Pacific   0.0  0.0   0.0  0.0  co2_combust_mtco2   7356.559884  \n27781  Asia Pacific   0.0  0.0   0.0  0.0  co2_combust_mtco2   7685.020094  \n27782  Asia Pacific   0.0  0.0   0.0  0.0  co2_combust_mtco2   8121.687733  \n27783  Asia Pacific   0.0  0.0   0.0  0.0  co2_combust_mtco2   8793.491058  \n27784  Asia Pacific   0.0  0.0   0.0  0.0  co2_combust_mtco2   8978.738690  \n27785  Asia Pacific   0.0  0.0   0.0  0.0  co2_combust_mtco2   9219.099311  \n27786  Asia Pacific   0.0  0.0   0.0  0.0  co2_combust_mtco2   9256.680105  \n27787  Asia Pacific   0.0  0.0   0.0  0.0  co2_combust_mtco2   9226.202369  \n27788  Asia Pacific   0.0  0.0   0.0  0.0  co2_combust_mtco2   9234.416055  \n27789  Asia Pacific   0.0  0.0   0.0  0.0  co2_combust_mtco2   9444.870664  \n27790  Asia Pacific   0.0  0.0   0.0  0.0  co2_combust_mtco2   9675.985422  \n27791  Asia Pacific   0.0  0.0   0.0  0.0  co2_combust_mtco2   9868.525808  \n27792  Asia Pacific   0.0  0.0   0.0  0.0  co2_combust_mtco2   9974.271347  \n27793  Asia Pacific   0.0  0.0   0.0  0.0  co2_combust_mtco2  10523.026040  ",
      "text/html": "<div>\n<style scoped>\n    .dataframe tbody tr th:only-of-type {\n        vertical-align: middle;\n    }\n\n    .dataframe tbody tr th {\n        vertical-align: top;\n    }\n\n    .dataframe thead th {\n        text-align: right;\n    }\n</style>\n<table border=\"1\" class=\"dataframe\">\n  <thead>\n    <tr style=\"text-align: right;\">\n      <th></th>\n      <th>Country</th>\n      <th>Year</th>\n      <th>ISO3166_alpha3</th>\n      <th>ISO3166_numeric</th>\n      <th>Region</th>\n      <th>SubRegion</th>\n      <th>OPEC</th>\n      <th>EU</th>\n      <th>OECD</th>\n      <th>CIS</th>\n      <th>Var</th>\n      <th>Value</th>\n    </tr>\n  </thead>\n  <tbody>\n    <tr>\n      <th>27737</th>\n      <td>China</td>\n      <td>1965</td>\n      <td>CHN</td>\n      <td>156.0</td>\n      <td>Asia Pacific</td>\n      <td>Asia Pacific</td>\n      <td>0.0</td>\n      <td>0.0</td>\n      <td>0.0</td>\n      <td>0.0</td>\n      <td>co2_combust_mtco2</td>\n      <td>488.525419</td>\n    </tr>\n    <tr>\n      <th>27738</th>\n      <td>China</td>\n      <td>1966</td>\n      <td>CHN</td>\n      <td>156.0</td>\n      <td>Asia Pacific</td>\n      <td>Asia Pacific</td>\n      <td>0.0</td>\n      <td>0.0</td>\n      <td>0.0</td>\n      <td>0.0</td>\n      <td>co2_combust_mtco2</td>\n      <td>530.349044</td>\n    </tr>\n    <tr>\n      <th>27739</th>\n      <td>China</td>\n      <td>1967</td>\n      <td>CHN</td>\n      <td>156.0</td>\n      <td>Asia Pacific</td>\n      <td>Asia Pacific</td>\n      <td>0.0</td>\n      <td>0.0</td>\n      <td>0.0</td>\n      <td>0.0</td>\n      <td>co2_combust_mtco2</td>\n      <td>475.920674</td>\n    </tr>\n    <tr>\n      <th>27740</th>\n      <td>China</td>\n      <td>1968</td>\n      <td>CHN</td>\n      <td>156.0</td>\n      <td>Asia Pacific</td>\n      <td>Asia Pacific</td>\n      <td>0.0</td>\n      <td>0.0</td>\n      <td>0.0</td>\n      <td>0.0</td>\n      <td>co2_combust_mtco2</td>\n      <td>476.682790</td>\n    </tr>\n    <tr>\n      <th>27741</th>\n      <td>China</td>\n      <td>1969</td>\n      <td>CHN</td>\n      <td>156.0</td>\n      <td>Asia Pacific</td>\n      <td>Asia Pacific</td>\n      <td>0.0</td>\n      <td>0.0</td>\n      <td>0.0</td>\n      <td>0.0</td>\n      <td>co2_combust_mtco2</td>\n      <td>582.473700</td>\n    </tr>\n    <tr>\n      <th>27742</th>\n      <td>China</td>\n      <td>1970</td>\n      <td>CHN</td>\n      <td>156.0</td>\n      <td>Asia Pacific</td>\n      <td>Asia Pacific</td>\n      <td>0.0</td>\n      <td>0.0</td>\n      <td>0.0</td>\n      <td>0.0</td>\n      <td>co2_combust_mtco2</td>\n      <td>748.507130</td>\n    </tr>\n    <tr>\n      <th>27743</th>\n      <td>China</td>\n      <td>1971</td>\n      <td>CHN</td>\n      <td>156.0</td>\n      <td>Asia Pacific</td>\n      <td>Asia Pacific</td>\n      <td>0.0</td>\n      <td>0.0</td>\n      <td>0.0</td>\n      <td>0.0</td>\n      <td>co2_combust_mtco2</td>\n      <td>881.701156</td>\n    </tr>\n    <tr>\n      <th>27744</th>\n      <td>China</td>\n      <td>1972</td>\n      <td>CHN</td>\n      <td>156.0</td>\n      <td>Asia Pacific</td>\n      <td>Asia Pacific</td>\n      <td>0.0</td>\n      <td>0.0</td>\n      <td>0.0</td>\n      <td>0.0</td>\n      <td>co2_combust_mtco2</td>\n      <td>945.376724</td>\n    </tr>\n    <tr>\n      <th>27745</th>\n      <td>China</td>\n      <td>1973</td>\n      <td>CHN</td>\n      <td>156.0</td>\n      <td>Asia Pacific</td>\n      <td>Asia Pacific</td>\n      <td>0.0</td>\n      <td>0.0</td>\n      <td>0.0</td>\n      <td>0.0</td>\n      <td>co2_combust_mtco2</td>\n      <td>987.002301</td>\n    </tr>\n    <tr>\n      <th>27746</th>\n      <td>China</td>\n      <td>1974</td>\n      <td>CHN</td>\n      <td>156.0</td>\n      <td>Asia Pacific</td>\n      <td>Asia Pacific</td>\n      <td>0.0</td>\n      <td>0.0</td>\n      <td>0.0</td>\n      <td>0.0</td>\n      <td>co2_combust_mtco2</td>\n      <td>1006.768535</td>\n    </tr>\n    <tr>\n      <th>27747</th>\n      <td>China</td>\n      <td>1975</td>\n      <td>CHN</td>\n      <td>156.0</td>\n      <td>Asia Pacific</td>\n      <td>Asia Pacific</td>\n      <td>0.0</td>\n      <td>0.0</td>\n      <td>0.0</td>\n      <td>0.0</td>\n      <td>co2_combust_mtco2</td>\n      <td>1131.272789</td>\n    </tr>\n    <tr>\n      <th>27748</th>\n      <td>China</td>\n      <td>1976</td>\n      <td>CHN</td>\n      <td>156.0</td>\n      <td>Asia Pacific</td>\n      <td>Asia Pacific</td>\n      <td>0.0</td>\n      <td>0.0</td>\n      <td>0.0</td>\n      <td>0.0</td>\n      <td>co2_combust_mtco2</td>\n      <td>1183.141392</td>\n    </tr>\n    <tr>\n      <th>27749</th>\n      <td>China</td>\n      <td>1977</td>\n      <td>CHN</td>\n      <td>156.0</td>\n      <td>Asia Pacific</td>\n      <td>Asia Pacific</td>\n      <td>0.0</td>\n      <td>0.0</td>\n      <td>0.0</td>\n      <td>0.0</td>\n      <td>co2_combust_mtco2</td>\n      <td>1293.548111</td>\n    </tr>\n    <tr>\n      <th>27750</th>\n      <td>China</td>\n      <td>1978</td>\n      <td>CHN</td>\n      <td>156.0</td>\n      <td>Asia Pacific</td>\n      <td>Asia Pacific</td>\n      <td>0.0</td>\n      <td>0.0</td>\n      <td>0.0</td>\n      <td>0.0</td>\n      <td>co2_combust_mtco2</td>\n      <td>1418.532587</td>\n    </tr>\n    <tr>\n      <th>27751</th>\n      <td>China</td>\n      <td>1979</td>\n      <td>CHN</td>\n      <td>156.0</td>\n      <td>Asia Pacific</td>\n      <td>Asia Pacific</td>\n      <td>0.0</td>\n      <td>0.0</td>\n      <td>0.0</td>\n      <td>0.0</td>\n      <td>co2_combust_mtco2</td>\n      <td>1458.454221</td>\n    </tr>\n    <tr>\n      <th>27752</th>\n      <td>China</td>\n      <td>1980</td>\n      <td>CHN</td>\n      <td>156.0</td>\n      <td>Asia Pacific</td>\n      <td>Asia Pacific</td>\n      <td>0.0</td>\n      <td>0.0</td>\n      <td>0.0</td>\n      <td>0.0</td>\n      <td>co2_combust_mtco2</td>\n      <td>1460.868760</td>\n    </tr>\n    <tr>\n      <th>27753</th>\n      <td>China</td>\n      <td>1981</td>\n      <td>CHN</td>\n      <td>156.0</td>\n      <td>Asia Pacific</td>\n      <td>Asia Pacific</td>\n      <td>0.0</td>\n      <td>0.0</td>\n      <td>0.0</td>\n      <td>0.0</td>\n      <td>co2_combust_mtco2</td>\n      <td>1438.274310</td>\n    </tr>\n    <tr>\n      <th>27754</th>\n      <td>China</td>\n      <td>1982</td>\n      <td>CHN</td>\n      <td>156.0</td>\n      <td>Asia Pacific</td>\n      <td>Asia Pacific</td>\n      <td>0.0</td>\n      <td>0.0</td>\n      <td>0.0</td>\n      <td>0.0</td>\n      <td>co2_combust_mtco2</td>\n      <td>1502.026966</td>\n    </tr>\n    <tr>\n      <th>27755</th>\n      <td>China</td>\n      <td>1983</td>\n      <td>CHN</td>\n      <td>156.0</td>\n      <td>Asia Pacific</td>\n      <td>Asia Pacific</td>\n      <td>0.0</td>\n      <td>0.0</td>\n      <td>0.0</td>\n      <td>0.0</td>\n      <td>co2_combust_mtco2</td>\n      <td>1596.663040</td>\n    </tr>\n    <tr>\n      <th>27756</th>\n      <td>China</td>\n      <td>1984</td>\n      <td>CHN</td>\n      <td>156.0</td>\n      <td>Asia Pacific</td>\n      <td>Asia Pacific</td>\n      <td>0.0</td>\n      <td>0.0</td>\n      <td>0.0</td>\n      <td>0.0</td>\n      <td>co2_combust_mtco2</td>\n      <td>1722.027451</td>\n    </tr>\n    <tr>\n      <th>27757</th>\n      <td>China</td>\n      <td>1985</td>\n      <td>CHN</td>\n      <td>156.0</td>\n      <td>Asia Pacific</td>\n      <td>Asia Pacific</td>\n      <td>0.0</td>\n      <td>0.0</td>\n      <td>0.0</td>\n      <td>0.0</td>\n      <td>co2_combust_mtco2</td>\n      <td>1821.737468</td>\n    </tr>\n    <tr>\n      <th>27758</th>\n      <td>China</td>\n      <td>1986</td>\n      <td>CHN</td>\n      <td>156.0</td>\n      <td>Asia Pacific</td>\n      <td>Asia Pacific</td>\n      <td>0.0</td>\n      <td>0.0</td>\n      <td>0.0</td>\n      <td>0.0</td>\n      <td>co2_combust_mtco2</td>\n      <td>1903.607082</td>\n    </tr>\n    <tr>\n      <th>27759</th>\n      <td>China</td>\n      <td>1987</td>\n      <td>CHN</td>\n      <td>156.0</td>\n      <td>Asia Pacific</td>\n      <td>Asia Pacific</td>\n      <td>0.0</td>\n      <td>0.0</td>\n      <td>0.0</td>\n      <td>0.0</td>\n      <td>co2_combust_mtco2</td>\n      <td>2048.107959</td>\n    </tr>\n    <tr>\n      <th>27760</th>\n      <td>China</td>\n      <td>1988</td>\n      <td>CHN</td>\n      <td>156.0</td>\n      <td>Asia Pacific</td>\n      <td>Asia Pacific</td>\n      <td>0.0</td>\n      <td>0.0</td>\n      <td>0.0</td>\n      <td>0.0</td>\n      <td>co2_combust_mtco2</td>\n      <td>2196.815705</td>\n    </tr>\n    <tr>\n      <th>27761</th>\n      <td>China</td>\n      <td>1989</td>\n      <td>CHN</td>\n      <td>156.0</td>\n      <td>Asia Pacific</td>\n      <td>Asia Pacific</td>\n      <td>0.0</td>\n      <td>0.0</td>\n      <td>0.0</td>\n      <td>0.0</td>\n      <td>co2_combust_mtco2</td>\n      <td>2295.043997</td>\n    </tr>\n    <tr>\n      <th>27762</th>\n      <td>China</td>\n      <td>1990</td>\n      <td>CHN</td>\n      <td>156.0</td>\n      <td>Asia Pacific</td>\n      <td>Asia Pacific</td>\n      <td>0.0</td>\n      <td>0.0</td>\n      <td>0.0</td>\n      <td>0.0</td>\n      <td>co2_combust_mtco2</td>\n      <td>2308.792718</td>\n    </tr>\n    <tr>\n      <th>27763</th>\n      <td>China</td>\n      <td>1991</td>\n      <td>CHN</td>\n      <td>156.0</td>\n      <td>Asia Pacific</td>\n      <td>Asia Pacific</td>\n      <td>0.0</td>\n      <td>0.0</td>\n      <td>0.0</td>\n      <td>0.0</td>\n      <td>co2_combust_mtco2</td>\n      <td>2439.954399</td>\n    </tr>\n    <tr>\n      <th>27764</th>\n      <td>China</td>\n      <td>1992</td>\n      <td>CHN</td>\n      <td>156.0</td>\n      <td>Asia Pacific</td>\n      <td>Asia Pacific</td>\n      <td>0.0</td>\n      <td>0.0</td>\n      <td>0.0</td>\n      <td>0.0</td>\n      <td>co2_combust_mtco2</td>\n      <td>2562.756165</td>\n    </tr>\n    <tr>\n      <th>27765</th>\n      <td>China</td>\n      <td>1993</td>\n      <td>CHN</td>\n      <td>156.0</td>\n      <td>Asia Pacific</td>\n      <td>Asia Pacific</td>\n      <td>0.0</td>\n      <td>0.0</td>\n      <td>0.0</td>\n      <td>0.0</td>\n      <td>co2_combust_mtco2</td>\n      <td>2769.614393</td>\n    </tr>\n    <tr>\n      <th>27766</th>\n      <td>China</td>\n      <td>1994</td>\n      <td>CHN</td>\n      <td>156.0</td>\n      <td>Asia Pacific</td>\n      <td>Asia Pacific</td>\n      <td>0.0</td>\n      <td>0.0</td>\n      <td>0.0</td>\n      <td>0.0</td>\n      <td>co2_combust_mtco2</td>\n      <td>2921.357545</td>\n    </tr>\n    <tr>\n      <th>27767</th>\n      <td>China</td>\n      <td>1995</td>\n      <td>CHN</td>\n      <td>156.0</td>\n      <td>Asia Pacific</td>\n      <td>Asia Pacific</td>\n      <td>0.0</td>\n      <td>0.0</td>\n      <td>0.0</td>\n      <td>0.0</td>\n      <td>co2_combust_mtco2</td>\n      <td>3009.163395</td>\n    </tr>\n    <tr>\n      <th>27768</th>\n      <td>China</td>\n      <td>1996</td>\n      <td>CHN</td>\n      <td>156.0</td>\n      <td>Asia Pacific</td>\n      <td>Asia Pacific</td>\n      <td>0.0</td>\n      <td>0.0</td>\n      <td>0.0</td>\n      <td>0.0</td>\n      <td>co2_combust_mtco2</td>\n      <td>3156.655144</td>\n    </tr>\n    <tr>\n      <th>27769</th>\n      <td>China</td>\n      <td>1997</td>\n      <td>CHN</td>\n      <td>156.0</td>\n      <td>Asia Pacific</td>\n      <td>Asia Pacific</td>\n      <td>0.0</td>\n      <td>0.0</td>\n      <td>0.0</td>\n      <td>0.0</td>\n      <td>co2_combust_mtco2</td>\n      <td>3142.331400</td>\n    </tr>\n    <tr>\n      <th>27770</th>\n      <td>China</td>\n      <td>1998</td>\n      <td>CHN</td>\n      <td>156.0</td>\n      <td>Asia Pacific</td>\n      <td>Asia Pacific</td>\n      <td>0.0</td>\n      <td>0.0</td>\n      <td>0.0</td>\n      <td>0.0</td>\n      <td>co2_combust_mtco2</td>\n      <td>3139.807993</td>\n    </tr>\n    <tr>\n      <th>27771</th>\n      <td>China</td>\n      <td>1999</td>\n      <td>CHN</td>\n      <td>156.0</td>\n      <td>Asia Pacific</td>\n      <td>Asia Pacific</td>\n      <td>0.0</td>\n      <td>0.0</td>\n      <td>0.0</td>\n      <td>0.0</td>\n      <td>co2_combust_mtco2</td>\n      <td>3268.473902</td>\n    </tr>\n    <tr>\n      <th>27772</th>\n      <td>China</td>\n      <td>2000</td>\n      <td>CHN</td>\n      <td>156.0</td>\n      <td>Asia Pacific</td>\n      <td>Asia Pacific</td>\n      <td>0.0</td>\n      <td>0.0</td>\n      <td>0.0</td>\n      <td>0.0</td>\n      <td>co2_combust_mtco2</td>\n      <td>3327.983977</td>\n    </tr>\n    <tr>\n      <th>27773</th>\n      <td>China</td>\n      <td>2001</td>\n      <td>CHN</td>\n      <td>156.0</td>\n      <td>Asia Pacific</td>\n      <td>Asia Pacific</td>\n      <td>0.0</td>\n      <td>0.0</td>\n      <td>0.0</td>\n      <td>0.0</td>\n      <td>co2_combust_mtco2</td>\n      <td>3489.727218</td>\n    </tr>\n    <tr>\n      <th>27774</th>\n      <td>China</td>\n      <td>2002</td>\n      <td>CHN</td>\n      <td>156.0</td>\n      <td>Asia Pacific</td>\n      <td>Asia Pacific</td>\n      <td>0.0</td>\n      <td>0.0</td>\n      <td>0.0</td>\n      <td>0.0</td>\n      <td>co2_combust_mtco2</td>\n      <td>3809.263974</td>\n    </tr>\n    <tr>\n      <th>27775</th>\n      <td>China</td>\n      <td>2003</td>\n      <td>CHN</td>\n      <td>156.0</td>\n      <td>Asia Pacific</td>\n      <td>Asia Pacific</td>\n      <td>0.0</td>\n      <td>0.0</td>\n      <td>0.0</td>\n      <td>0.0</td>\n      <td>co2_combust_mtco2</td>\n      <td>4494.135943</td>\n    </tr>\n    <tr>\n      <th>27776</th>\n      <td>China</td>\n      <td>2004</td>\n      <td>CHN</td>\n      <td>156.0</td>\n      <td>Asia Pacific</td>\n      <td>Asia Pacific</td>\n      <td>0.0</td>\n      <td>0.0</td>\n      <td>0.0</td>\n      <td>0.0</td>\n      <td>co2_combust_mtco2</td>\n      <td>5317.167767</td>\n    </tr>\n    <tr>\n      <th>27777</th>\n      <td>China</td>\n      <td>2005</td>\n      <td>CHN</td>\n      <td>156.0</td>\n      <td>Asia Pacific</td>\n      <td>Asia Pacific</td>\n      <td>0.0</td>\n      <td>0.0</td>\n      <td>0.0</td>\n      <td>0.0</td>\n      <td>co2_combust_mtco2</td>\n      <td>6079.259496</td>\n    </tr>\n    <tr>\n      <th>27778</th>\n      <td>China</td>\n      <td>2006</td>\n      <td>CHN</td>\n      <td>156.0</td>\n      <td>Asia Pacific</td>\n      <td>Asia Pacific</td>\n      <td>0.0</td>\n      <td>0.0</td>\n      <td>0.0</td>\n      <td>0.0</td>\n      <td>co2_combust_mtco2</td>\n      <td>6659.973623</td>\n    </tr>\n    <tr>\n      <th>27779</th>\n      <td>China</td>\n      <td>2007</td>\n      <td>CHN</td>\n      <td>156.0</td>\n      <td>Asia Pacific</td>\n      <td>Asia Pacific</td>\n      <td>0.0</td>\n      <td>0.0</td>\n      <td>0.0</td>\n      <td>0.0</td>\n      <td>co2_combust_mtco2</td>\n      <td>7217.139095</td>\n    </tr>\n    <tr>\n      <th>27780</th>\n      <td>China</td>\n      <td>2008</td>\n      <td>CHN</td>\n      <td>156.0</td>\n      <td>Asia Pacific</td>\n      <td>Asia Pacific</td>\n      <td>0.0</td>\n      <td>0.0</td>\n      <td>0.0</td>\n      <td>0.0</td>\n      <td>co2_combust_mtco2</td>\n      <td>7356.559884</td>\n    </tr>\n    <tr>\n      <th>27781</th>\n      <td>China</td>\n      <td>2009</td>\n      <td>CHN</td>\n      <td>156.0</td>\n      <td>Asia Pacific</td>\n      <td>Asia Pacific</td>\n      <td>0.0</td>\n      <td>0.0</td>\n      <td>0.0</td>\n      <td>0.0</td>\n      <td>co2_combust_mtco2</td>\n      <td>7685.020094</td>\n    </tr>\n    <tr>\n      <th>27782</th>\n      <td>China</td>\n      <td>2010</td>\n      <td>CHN</td>\n      <td>156.0</td>\n      <td>Asia Pacific</td>\n      <td>Asia Pacific</td>\n      <td>0.0</td>\n      <td>0.0</td>\n      <td>0.0</td>\n      <td>0.0</td>\n      <td>co2_combust_mtco2</td>\n      <td>8121.687733</td>\n    </tr>\n    <tr>\n      <th>27783</th>\n      <td>China</td>\n      <td>2011</td>\n      <td>CHN</td>\n      <td>156.0</td>\n      <td>Asia Pacific</td>\n      <td>Asia Pacific</td>\n      <td>0.0</td>\n      <td>0.0</td>\n      <td>0.0</td>\n      <td>0.0</td>\n      <td>co2_combust_mtco2</td>\n      <td>8793.491058</td>\n    </tr>\n    <tr>\n      <th>27784</th>\n      <td>China</td>\n      <td>2012</td>\n      <td>CHN</td>\n      <td>156.0</td>\n      <td>Asia Pacific</td>\n      <td>Asia Pacific</td>\n      <td>0.0</td>\n      <td>0.0</td>\n      <td>0.0</td>\n      <td>0.0</td>\n      <td>co2_combust_mtco2</td>\n      <td>8978.738690</td>\n    </tr>\n    <tr>\n      <th>27785</th>\n      <td>China</td>\n      <td>2013</td>\n      <td>CHN</td>\n      <td>156.0</td>\n      <td>Asia Pacific</td>\n      <td>Asia Pacific</td>\n      <td>0.0</td>\n      <td>0.0</td>\n      <td>0.0</td>\n      <td>0.0</td>\n      <td>co2_combust_mtco2</td>\n      <td>9219.099311</td>\n    </tr>\n    <tr>\n      <th>27786</th>\n      <td>China</td>\n      <td>2014</td>\n      <td>CHN</td>\n      <td>156.0</td>\n      <td>Asia Pacific</td>\n      <td>Asia Pacific</td>\n      <td>0.0</td>\n      <td>0.0</td>\n      <td>0.0</td>\n      <td>0.0</td>\n      <td>co2_combust_mtco2</td>\n      <td>9256.680105</td>\n    </tr>\n    <tr>\n      <th>27787</th>\n      <td>China</td>\n      <td>2015</td>\n      <td>CHN</td>\n      <td>156.0</td>\n      <td>Asia Pacific</td>\n      <td>Asia Pacific</td>\n      <td>0.0</td>\n      <td>0.0</td>\n      <td>0.0</td>\n      <td>0.0</td>\n      <td>co2_combust_mtco2</td>\n      <td>9226.202369</td>\n    </tr>\n    <tr>\n      <th>27788</th>\n      <td>China</td>\n      <td>2016</td>\n      <td>CHN</td>\n      <td>156.0</td>\n      <td>Asia Pacific</td>\n      <td>Asia Pacific</td>\n      <td>0.0</td>\n      <td>0.0</td>\n      <td>0.0</td>\n      <td>0.0</td>\n      <td>co2_combust_mtco2</td>\n      <td>9234.416055</td>\n    </tr>\n    <tr>\n      <th>27789</th>\n      <td>China</td>\n      <td>2017</td>\n      <td>CHN</td>\n      <td>156.0</td>\n      <td>Asia Pacific</td>\n      <td>Asia Pacific</td>\n      <td>0.0</td>\n      <td>0.0</td>\n      <td>0.0</td>\n      <td>0.0</td>\n      <td>co2_combust_mtco2</td>\n      <td>9444.870664</td>\n    </tr>\n    <tr>\n      <th>27790</th>\n      <td>China</td>\n      <td>2018</td>\n      <td>CHN</td>\n      <td>156.0</td>\n      <td>Asia Pacific</td>\n      <td>Asia Pacific</td>\n      <td>0.0</td>\n      <td>0.0</td>\n      <td>0.0</td>\n      <td>0.0</td>\n      <td>co2_combust_mtco2</td>\n      <td>9675.985422</td>\n    </tr>\n    <tr>\n      <th>27791</th>\n      <td>China</td>\n      <td>2019</td>\n      <td>CHN</td>\n      <td>156.0</td>\n      <td>Asia Pacific</td>\n      <td>Asia Pacific</td>\n      <td>0.0</td>\n      <td>0.0</td>\n      <td>0.0</td>\n      <td>0.0</td>\n      <td>co2_combust_mtco2</td>\n      <td>9868.525808</td>\n    </tr>\n    <tr>\n      <th>27792</th>\n      <td>China</td>\n      <td>2020</td>\n      <td>CHN</td>\n      <td>156.0</td>\n      <td>Asia Pacific</td>\n      <td>Asia Pacific</td>\n      <td>0.0</td>\n      <td>0.0</td>\n      <td>0.0</td>\n      <td>0.0</td>\n      <td>co2_combust_mtco2</td>\n      <td>9974.271347</td>\n    </tr>\n    <tr>\n      <th>27793</th>\n      <td>China</td>\n      <td>2021</td>\n      <td>CHN</td>\n      <td>156.0</td>\n      <td>Asia Pacific</td>\n      <td>Asia Pacific</td>\n      <td>0.0</td>\n      <td>0.0</td>\n      <td>0.0</td>\n      <td>0.0</td>\n      <td>co2_combust_mtco2</td>\n      <td>10523.026040</td>\n    </tr>\n  </tbody>\n</table>\n</div>"
     },
     "execution_count": 8,
     "metadata": {},
     "output_type": "execute_result"
    }
   ],
   "source": [
    "a[(a.Country == \"China\") & (a.Var == \"co2_combust_mtco2\")]"
   ],
   "metadata": {
    "collapsed": false,
    "ExecuteTime": {
     "end_time": "2023-05-01T05:14:58.233262500Z",
     "start_time": "2023-05-01T05:14:58.092393800Z"
    }
   }
  },
  {
   "cell_type": "code",
   "execution_count": 15,
   "outputs": [
    {
     "data": {
      "text/plain": "      Country  Year ISO3166_alpha3  ISO3166_numeric         Region  \\\n32367      US  1965            USA            840.0  North America   \n32368      US  1966            USA            840.0  North America   \n32369      US  1967            USA            840.0  North America   \n32370      US  1968            USA            840.0  North America   \n32371      US  1969            USA            840.0  North America   \n...       ...   ...            ...              ...            ...   \n32439    USSR  1980            SUN            810.0            CIS   \n32440    USSR  1981            SUN            810.0            CIS   \n32441    USSR  1982            SUN            810.0            CIS   \n32442    USSR  1983            SUN            810.0            CIS   \n32443    USSR  1984            SUN            810.0            CIS   \n\n           SubRegion  OPEC   EU  OECD  CIS                Var        Value  \n32367  North America   0.0  0.0   1.0  0.0  co2_combust_mtco2  3451.891855  \n32368  North America   0.0  0.0   1.0  0.0  co2_combust_mtco2  3639.795004  \n32369  North America   0.0  0.0   1.0  0.0  co2_combust_mtco2  3738.161319  \n32370  North America   0.0  0.0   1.0  0.0  co2_combust_mtco2  3947.343459  \n32371  North America   0.0  0.0   1.0  0.0  co2_combust_mtco2  4117.396247  \n...              ...   ...  ...   ...  ...                ...          ...  \n32439            CIS   0.0  0.0   0.0  0.0  co2_combust_mtco2  3280.425137  \n32440            CIS   0.0  0.0   0.0  0.0  co2_combust_mtco2  3312.974548  \n32441            CIS   0.0  0.0   0.0  0.0  co2_combust_mtco2  3376.746272  \n32442            CIS   0.0  0.0   0.0  0.0  co2_combust_mtco2  3414.750874  \n32443            CIS   0.0  0.0   0.0  0.0  co2_combust_mtco2  3474.639403  \n\n[77 rows x 12 columns]",
      "text/html": "<div>\n<style scoped>\n    .dataframe tbody tr th:only-of-type {\n        vertical-align: middle;\n    }\n\n    .dataframe tbody tr th {\n        vertical-align: top;\n    }\n\n    .dataframe thead th {\n        text-align: right;\n    }\n</style>\n<table border=\"1\" class=\"dataframe\">\n  <thead>\n    <tr style=\"text-align: right;\">\n      <th></th>\n      <th>Country</th>\n      <th>Year</th>\n      <th>ISO3166_alpha3</th>\n      <th>ISO3166_numeric</th>\n      <th>Region</th>\n      <th>SubRegion</th>\n      <th>OPEC</th>\n      <th>EU</th>\n      <th>OECD</th>\n      <th>CIS</th>\n      <th>Var</th>\n      <th>Value</th>\n    </tr>\n  </thead>\n  <tbody>\n    <tr>\n      <th>32367</th>\n      <td>US</td>\n      <td>1965</td>\n      <td>USA</td>\n      <td>840.0</td>\n      <td>North America</td>\n      <td>North America</td>\n      <td>0.0</td>\n      <td>0.0</td>\n      <td>1.0</td>\n      <td>0.0</td>\n      <td>co2_combust_mtco2</td>\n      <td>3451.891855</td>\n    </tr>\n    <tr>\n      <th>32368</th>\n      <td>US</td>\n      <td>1966</td>\n      <td>USA</td>\n      <td>840.0</td>\n      <td>North America</td>\n      <td>North America</td>\n      <td>0.0</td>\n      <td>0.0</td>\n      <td>1.0</td>\n      <td>0.0</td>\n      <td>co2_combust_mtco2</td>\n      <td>3639.795004</td>\n    </tr>\n    <tr>\n      <th>32369</th>\n      <td>US</td>\n      <td>1967</td>\n      <td>USA</td>\n      <td>840.0</td>\n      <td>North America</td>\n      <td>North America</td>\n      <td>0.0</td>\n      <td>0.0</td>\n      <td>1.0</td>\n      <td>0.0</td>\n      <td>co2_combust_mtco2</td>\n      <td>3738.161319</td>\n    </tr>\n    <tr>\n      <th>32370</th>\n      <td>US</td>\n      <td>1968</td>\n      <td>USA</td>\n      <td>840.0</td>\n      <td>North America</td>\n      <td>North America</td>\n      <td>0.0</td>\n      <td>0.0</td>\n      <td>1.0</td>\n      <td>0.0</td>\n      <td>co2_combust_mtco2</td>\n      <td>3947.343459</td>\n    </tr>\n    <tr>\n      <th>32371</th>\n      <td>US</td>\n      <td>1969</td>\n      <td>USA</td>\n      <td>840.0</td>\n      <td>North America</td>\n      <td>North America</td>\n      <td>0.0</td>\n      <td>0.0</td>\n      <td>1.0</td>\n      <td>0.0</td>\n      <td>co2_combust_mtco2</td>\n      <td>4117.396247</td>\n    </tr>\n    <tr>\n      <th>...</th>\n      <td>...</td>\n      <td>...</td>\n      <td>...</td>\n      <td>...</td>\n      <td>...</td>\n      <td>...</td>\n      <td>...</td>\n      <td>...</td>\n      <td>...</td>\n      <td>...</td>\n      <td>...</td>\n      <td>...</td>\n    </tr>\n    <tr>\n      <th>32439</th>\n      <td>USSR</td>\n      <td>1980</td>\n      <td>SUN</td>\n      <td>810.0</td>\n      <td>CIS</td>\n      <td>CIS</td>\n      <td>0.0</td>\n      <td>0.0</td>\n      <td>0.0</td>\n      <td>0.0</td>\n      <td>co2_combust_mtco2</td>\n      <td>3280.425137</td>\n    </tr>\n    <tr>\n      <th>32440</th>\n      <td>USSR</td>\n      <td>1981</td>\n      <td>SUN</td>\n      <td>810.0</td>\n      <td>CIS</td>\n      <td>CIS</td>\n      <td>0.0</td>\n      <td>0.0</td>\n      <td>0.0</td>\n      <td>0.0</td>\n      <td>co2_combust_mtco2</td>\n      <td>3312.974548</td>\n    </tr>\n    <tr>\n      <th>32441</th>\n      <td>USSR</td>\n      <td>1982</td>\n      <td>SUN</td>\n      <td>810.0</td>\n      <td>CIS</td>\n      <td>CIS</td>\n      <td>0.0</td>\n      <td>0.0</td>\n      <td>0.0</td>\n      <td>0.0</td>\n      <td>co2_combust_mtco2</td>\n      <td>3376.746272</td>\n    </tr>\n    <tr>\n      <th>32442</th>\n      <td>USSR</td>\n      <td>1983</td>\n      <td>SUN</td>\n      <td>810.0</td>\n      <td>CIS</td>\n      <td>CIS</td>\n      <td>0.0</td>\n      <td>0.0</td>\n      <td>0.0</td>\n      <td>0.0</td>\n      <td>co2_combust_mtco2</td>\n      <td>3414.750874</td>\n    </tr>\n    <tr>\n      <th>32443</th>\n      <td>USSR</td>\n      <td>1984</td>\n      <td>SUN</td>\n      <td>810.0</td>\n      <td>CIS</td>\n      <td>CIS</td>\n      <td>0.0</td>\n      <td>0.0</td>\n      <td>0.0</td>\n      <td>0.0</td>\n      <td>co2_combust_mtco2</td>\n      <td>3474.639403</td>\n    </tr>\n  </tbody>\n</table>\n<p>77 rows × 12 columns</p>\n</div>"
     },
     "execution_count": 15,
     "metadata": {},
     "output_type": "execute_result"
    }
   ],
   "source": [
    "a[(a.Country.str.contains(\"US\")) & (a.Var == \"co2_combust_mtco2\")]"
   ],
   "metadata": {
    "collapsed": false,
    "ExecuteTime": {
     "end_time": "2023-05-01T05:17:23.817993Z",
     "start_time": "2023-05-01T05:17:23.702230600Z"
    }
   }
  },
  {
   "cell_type": "code",
   "execution_count": 19,
   "outputs": [
    {
     "data": {
      "text/plain": "Fossil fuels                         494\nSolar energy                         478\nHydropower (excl. Pumped Storage)    374\nWind energy                          349\nBioenergy                            324\nOther non-renewable energy           150\nPumped storage                       124\nNuclear                              105\nGeothermal energy                    104\nMarine energy                         73\nName: Technology, dtype: int64"
     },
     "execution_count": 19,
     "metadata": {},
     "output_type": "execute_result"
    }
   ],
   "source": [
    "energy = pd.read_csv(r\"D:\\WorkSpace\\Code\\Python\\EnergyTrans\\dataset\\energy\\Energy_Transition.csv\")\n",
    "energy[\"Technology\"].value_counts()"
   ],
   "metadata": {
    "collapsed": false,
    "ExecuteTime": {
     "end_time": "2023-05-01T08:47:51.725825400Z",
     "start_time": "2023-05-01T08:47:51.662897400Z"
    }
   }
  },
  {
   "cell_type": "code",
   "execution_count": 20,
   "outputs": [
    {
     "data": {
      "text/plain": "      ObjectId      Country/Region ISO2   ISO3  \\\n0            1  Advanced Economies  NaN  AETMP   \n1            2  Advanced Economies  NaN  AETMP   \n2            3  Advanced Economies  NaN  AETMP   \n3            4  Advanced Economies  NaN  AETMP   \n4            5  Advanced Economies  NaN  AETMP   \n...        ...                 ...  ...    ...   \n2570      2571            Zimbabwe   ZW    ZWE   \n2571      2572            Zimbabwe   ZW    ZWE   \n2572      2573            Zimbabwe   ZW    ZWE   \n2573      2574            Zimbabwe   ZW    ZWE   \n2574      2575            Zimbabwe   ZW    ZWE   \n\n                           Indicator                         Technology  \\\n0             Electricity Generation                          Bioenergy   \n1     Electricity Installed Capacity                          Bioenergy   \n2             Electricity Generation                       Fossil fuels   \n3     Electricity Installed Capacity                       Fossil fuels   \n4             Electricity Generation                  Geothermal energy   \n...                              ...                                ...   \n2570  Electricity Installed Capacity                       Fossil fuels   \n2571          Electricity Generation  Hydropower (excl. Pumped Storage)   \n2572  Electricity Installed Capacity  Hydropower (excl. Pumped Storage)   \n2573          Electricity Generation                       Solar energy   \n2574  Electricity Installed Capacity                       Solar energy   \n\n              Energy_Type                  Unit  \\\n0         Total Renewable  Gigawatt-hours (GWh)   \n1         Total Renewable         Megawatt (MW)   \n2     Total Non-Renewable  Gigawatt-hours (GWh)   \n3     Total Non-Renewable         Megawatt (MW)   \n4         Total Renewable  Gigawatt-hours (GWh)   \n...                   ...                   ...   \n2570  Total Non-Renewable         Megawatt (MW)   \n2571      Total Renewable  Gigawatt-hours (GWh)   \n2572      Total Renewable         Megawatt (MW)   \n2573      Total Renewable  Gigawatt-hours (GWh)   \n2574      Total Renewable         Megawatt (MW)   \n\n                                                 Source  CTS_Name  ...  \\\n0     International Renewable Energy Agency (IRENA) ...       NaN  ...   \n1     International Renewable Energy Agency (IRENA) ...       NaN  ...   \n2     International Renewable Energy Agency (IRENA) ...       NaN  ...   \n3     International Renewable Energy Agency (IRENA) ...       NaN  ...   \n4     International Renewable Energy Agency (IRENA) ...       NaN  ...   \n...                                                 ...       ...  ...   \n2570  International Renewable Energy Agency (IRENA) ...       NaN  ...   \n2571  International Renewable Energy Agency (IRENA) ...       NaN  ...   \n2572  International Renewable Energy Agency (IRENA) ...       NaN  ...   \n2573  International Renewable Energy Agency (IRENA) ...       NaN  ...   \n2574  International Renewable Energy Agency (IRENA) ...       NaN  ...   \n\n            F2011        F2012        F2013        F2014        F2015  \\\n0      208500.849   224904.936   239773.166   252341.180   264181.433   \n1       41776.427    43690.635    46115.653    48575.397    50782.092   \n2     6184941.257  6192108.018  6103628.918  5966341.171  5895296.029   \n3     1548870.635  1549434.445  1536047.763  1543835.825  1520799.171   \n4       37192.016    38076.418    38936.706    40294.245    40949.973   \n...           ...          ...          ...          ...          ...   \n2570     1200.000     1200.000     1200.000     1200.000     1200.000   \n2571     5209.008     5396.008     5001.166     5468.223     5049.046   \n2572      753.395      753.395      758.345      758.370      773.405   \n2573        0.309        1.581        3.442        4.720        7.557   \n2574        0.177        0.905        1.970        2.702        4.326   \n\n            F2016        F2017        F2018        F2019        F2020  \n0      274068.035   283583.581   287858.956   293917.663   296348.479  \n1       53205.387    55580.629    58470.495    59285.425    59698.238  \n2     5862708.121  5724991.355  5780558.599  5552191.520  5239862.113  \n3     1507492.990  1504881.823  1519986.073  1496654.330  1487980.682  \n4       40915.479    41096.979    41910.671    41891.049    42477.806  \n...           ...          ...          ...          ...          ...  \n2570     1200.000     1200.000     1200.000     1200.000     1200.000  \n2571     2693.923     4086.518     5636.798     5510.818     3881.996  \n2572      777.155      781.055     1081.055     1081.055     1081.055  \n2573        8.925       10.923       18.952       25.640       33.518  \n2574        5.109        6.252       10.607       16.483       18.283  \n\n[2575 rows x 33 columns]",
      "text/html": "<div>\n<style scoped>\n    .dataframe tbody tr th:only-of-type {\n        vertical-align: middle;\n    }\n\n    .dataframe tbody tr th {\n        vertical-align: top;\n    }\n\n    .dataframe thead th {\n        text-align: right;\n    }\n</style>\n<table border=\"1\" class=\"dataframe\">\n  <thead>\n    <tr style=\"text-align: right;\">\n      <th></th>\n      <th>ObjectId</th>\n      <th>Country/Region</th>\n      <th>ISO2</th>\n      <th>ISO3</th>\n      <th>Indicator</th>\n      <th>Technology</th>\n      <th>Energy_Type</th>\n      <th>Unit</th>\n      <th>Source</th>\n      <th>CTS_Name</th>\n      <th>...</th>\n      <th>F2011</th>\n      <th>F2012</th>\n      <th>F2013</th>\n      <th>F2014</th>\n      <th>F2015</th>\n      <th>F2016</th>\n      <th>F2017</th>\n      <th>F2018</th>\n      <th>F2019</th>\n      <th>F2020</th>\n    </tr>\n  </thead>\n  <tbody>\n    <tr>\n      <th>0</th>\n      <td>1</td>\n      <td>Advanced Economies</td>\n      <td>NaN</td>\n      <td>AETMP</td>\n      <td>Electricity Generation</td>\n      <td>Bioenergy</td>\n      <td>Total Renewable</td>\n      <td>Gigawatt-hours (GWh)</td>\n      <td>International Renewable Energy Agency (IRENA) ...</td>\n      <td>NaN</td>\n      <td>...</td>\n      <td>208500.849</td>\n      <td>224904.936</td>\n      <td>239773.166</td>\n      <td>252341.180</td>\n      <td>264181.433</td>\n      <td>274068.035</td>\n      <td>283583.581</td>\n      <td>287858.956</td>\n      <td>293917.663</td>\n      <td>296348.479</td>\n    </tr>\n    <tr>\n      <th>1</th>\n      <td>2</td>\n      <td>Advanced Economies</td>\n      <td>NaN</td>\n      <td>AETMP</td>\n      <td>Electricity Installed Capacity</td>\n      <td>Bioenergy</td>\n      <td>Total Renewable</td>\n      <td>Megawatt (MW)</td>\n      <td>International Renewable Energy Agency (IRENA) ...</td>\n      <td>NaN</td>\n      <td>...</td>\n      <td>41776.427</td>\n      <td>43690.635</td>\n      <td>46115.653</td>\n      <td>48575.397</td>\n      <td>50782.092</td>\n      <td>53205.387</td>\n      <td>55580.629</td>\n      <td>58470.495</td>\n      <td>59285.425</td>\n      <td>59698.238</td>\n    </tr>\n    <tr>\n      <th>2</th>\n      <td>3</td>\n      <td>Advanced Economies</td>\n      <td>NaN</td>\n      <td>AETMP</td>\n      <td>Electricity Generation</td>\n      <td>Fossil fuels</td>\n      <td>Total Non-Renewable</td>\n      <td>Gigawatt-hours (GWh)</td>\n      <td>International Renewable Energy Agency (IRENA) ...</td>\n      <td>NaN</td>\n      <td>...</td>\n      <td>6184941.257</td>\n      <td>6192108.018</td>\n      <td>6103628.918</td>\n      <td>5966341.171</td>\n      <td>5895296.029</td>\n      <td>5862708.121</td>\n      <td>5724991.355</td>\n      <td>5780558.599</td>\n      <td>5552191.520</td>\n      <td>5239862.113</td>\n    </tr>\n    <tr>\n      <th>3</th>\n      <td>4</td>\n      <td>Advanced Economies</td>\n      <td>NaN</td>\n      <td>AETMP</td>\n      <td>Electricity Installed Capacity</td>\n      <td>Fossil fuels</td>\n      <td>Total Non-Renewable</td>\n      <td>Megawatt (MW)</td>\n      <td>International Renewable Energy Agency (IRENA) ...</td>\n      <td>NaN</td>\n      <td>...</td>\n      <td>1548870.635</td>\n      <td>1549434.445</td>\n      <td>1536047.763</td>\n      <td>1543835.825</td>\n      <td>1520799.171</td>\n      <td>1507492.990</td>\n      <td>1504881.823</td>\n      <td>1519986.073</td>\n      <td>1496654.330</td>\n      <td>1487980.682</td>\n    </tr>\n    <tr>\n      <th>4</th>\n      <td>5</td>\n      <td>Advanced Economies</td>\n      <td>NaN</td>\n      <td>AETMP</td>\n      <td>Electricity Generation</td>\n      <td>Geothermal energy</td>\n      <td>Total Renewable</td>\n      <td>Gigawatt-hours (GWh)</td>\n      <td>International Renewable Energy Agency (IRENA) ...</td>\n      <td>NaN</td>\n      <td>...</td>\n      <td>37192.016</td>\n      <td>38076.418</td>\n      <td>38936.706</td>\n      <td>40294.245</td>\n      <td>40949.973</td>\n      <td>40915.479</td>\n      <td>41096.979</td>\n      <td>41910.671</td>\n      <td>41891.049</td>\n      <td>42477.806</td>\n    </tr>\n    <tr>\n      <th>...</th>\n      <td>...</td>\n      <td>...</td>\n      <td>...</td>\n      <td>...</td>\n      <td>...</td>\n      <td>...</td>\n      <td>...</td>\n      <td>...</td>\n      <td>...</td>\n      <td>...</td>\n      <td>...</td>\n      <td>...</td>\n      <td>...</td>\n      <td>...</td>\n      <td>...</td>\n      <td>...</td>\n      <td>...</td>\n      <td>...</td>\n      <td>...</td>\n      <td>...</td>\n      <td>...</td>\n    </tr>\n    <tr>\n      <th>2570</th>\n      <td>2571</td>\n      <td>Zimbabwe</td>\n      <td>ZW</td>\n      <td>ZWE</td>\n      <td>Electricity Installed Capacity</td>\n      <td>Fossil fuels</td>\n      <td>Total Non-Renewable</td>\n      <td>Megawatt (MW)</td>\n      <td>International Renewable Energy Agency (IRENA) ...</td>\n      <td>NaN</td>\n      <td>...</td>\n      <td>1200.000</td>\n      <td>1200.000</td>\n      <td>1200.000</td>\n      <td>1200.000</td>\n      <td>1200.000</td>\n      <td>1200.000</td>\n      <td>1200.000</td>\n      <td>1200.000</td>\n      <td>1200.000</td>\n      <td>1200.000</td>\n    </tr>\n    <tr>\n      <th>2571</th>\n      <td>2572</td>\n      <td>Zimbabwe</td>\n      <td>ZW</td>\n      <td>ZWE</td>\n      <td>Electricity Generation</td>\n      <td>Hydropower (excl. Pumped Storage)</td>\n      <td>Total Renewable</td>\n      <td>Gigawatt-hours (GWh)</td>\n      <td>International Renewable Energy Agency (IRENA) ...</td>\n      <td>NaN</td>\n      <td>...</td>\n      <td>5209.008</td>\n      <td>5396.008</td>\n      <td>5001.166</td>\n      <td>5468.223</td>\n      <td>5049.046</td>\n      <td>2693.923</td>\n      <td>4086.518</td>\n      <td>5636.798</td>\n      <td>5510.818</td>\n      <td>3881.996</td>\n    </tr>\n    <tr>\n      <th>2572</th>\n      <td>2573</td>\n      <td>Zimbabwe</td>\n      <td>ZW</td>\n      <td>ZWE</td>\n      <td>Electricity Installed Capacity</td>\n      <td>Hydropower (excl. Pumped Storage)</td>\n      <td>Total Renewable</td>\n      <td>Megawatt (MW)</td>\n      <td>International Renewable Energy Agency (IRENA) ...</td>\n      <td>NaN</td>\n      <td>...</td>\n      <td>753.395</td>\n      <td>753.395</td>\n      <td>758.345</td>\n      <td>758.370</td>\n      <td>773.405</td>\n      <td>777.155</td>\n      <td>781.055</td>\n      <td>1081.055</td>\n      <td>1081.055</td>\n      <td>1081.055</td>\n    </tr>\n    <tr>\n      <th>2573</th>\n      <td>2574</td>\n      <td>Zimbabwe</td>\n      <td>ZW</td>\n      <td>ZWE</td>\n      <td>Electricity Generation</td>\n      <td>Solar energy</td>\n      <td>Total Renewable</td>\n      <td>Gigawatt-hours (GWh)</td>\n      <td>International Renewable Energy Agency (IRENA) ...</td>\n      <td>NaN</td>\n      <td>...</td>\n      <td>0.309</td>\n      <td>1.581</td>\n      <td>3.442</td>\n      <td>4.720</td>\n      <td>7.557</td>\n      <td>8.925</td>\n      <td>10.923</td>\n      <td>18.952</td>\n      <td>25.640</td>\n      <td>33.518</td>\n    </tr>\n    <tr>\n      <th>2574</th>\n      <td>2575</td>\n      <td>Zimbabwe</td>\n      <td>ZW</td>\n      <td>ZWE</td>\n      <td>Electricity Installed Capacity</td>\n      <td>Solar energy</td>\n      <td>Total Renewable</td>\n      <td>Megawatt (MW)</td>\n      <td>International Renewable Energy Agency (IRENA) ...</td>\n      <td>NaN</td>\n      <td>...</td>\n      <td>0.177</td>\n      <td>0.905</td>\n      <td>1.970</td>\n      <td>2.702</td>\n      <td>4.326</td>\n      <td>5.109</td>\n      <td>6.252</td>\n      <td>10.607</td>\n      <td>16.483</td>\n      <td>18.283</td>\n    </tr>\n  </tbody>\n</table>\n<p>2575 rows × 33 columns</p>\n</div>"
     },
     "execution_count": 20,
     "metadata": {},
     "output_type": "execute_result"
    }
   ],
   "source": [
    "energy"
   ],
   "metadata": {
    "collapsed": false,
    "ExecuteTime": {
     "end_time": "2023-05-01T08:48:12.403660300Z",
     "start_time": "2023-05-01T08:48:12.292562200Z"
    }
   }
  },
  {
   "cell_type": "code",
   "execution_count": null,
   "outputs": [],
   "source": [],
   "metadata": {
    "collapsed": false
   }
  }
 ],
 "metadata": {
  "kernelspec": {
   "display_name": "Python 3",
   "language": "python",
   "name": "python3"
  },
  "language_info": {
   "codemirror_mode": {
    "name": "ipython",
    "version": 2
   },
   "file_extension": ".py",
   "mimetype": "text/x-python",
   "name": "python",
   "nbconvert_exporter": "python",
   "pygments_lexer": "ipython2",
   "version": "2.7.6"
  }
 },
 "nbformat": 4,
 "nbformat_minor": 0
}
