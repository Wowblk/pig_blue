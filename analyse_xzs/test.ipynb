{
 "cells": [
  {
   "cell_type": "code",
   "execution_count": 5,
   "metadata": {
    "collapsed": true
   },
   "outputs": [
    {
     "ename": "ImportError",
     "evalue": "cannot import name '_rebuild' from 'matplotlib.font_manager' (/Users/wowblk/opt/anaconda3/envs/pytorch/lib/python3.9/site-packages/matplotlib/font_manager.py)",
     "output_type": "error",
     "traceback": [
      "\u001B[0;31m---------------------------------------------------------------------------\u001B[0m",
      "\u001B[0;31mImportError\u001B[0m                               Traceback (most recent call last)",
      "Cell \u001B[0;32mIn[5], line 1\u001B[0m\n\u001B[0;32m----> 1\u001B[0m \u001B[38;5;28;01mfrom\u001B[39;00m \u001B[38;5;21;01mmatplotlib\u001B[39;00m\u001B[38;5;21;01m.\u001B[39;00m\u001B[38;5;21;01mfont_manager\u001B[39;00m \u001B[38;5;28;01mimport\u001B[39;00m _rebuild\n\u001B[1;32m      3\u001B[0m _rebuild()\n",
      "\u001B[0;31mImportError\u001B[0m: cannot import name '_rebuild' from 'matplotlib.font_manager' (/Users/wowblk/opt/anaconda3/envs/pytorch/lib/python3.9/site-packages/matplotlib/font_manager.py)"
     ]
    }
   ],
   "source": [
    "from matplotlib.font_manager import _rebuild\n",
    "\n",
    "_rebuild()"
   ]
  },
  {
   "cell_type": "code",
   "execution_count": null,
   "outputs": [],
   "source": [],
   "metadata": {
    "collapsed": false
   }
  }
 ],
 "metadata": {
  "kernelspec": {
   "display_name": "Python 3",
   "language": "python",
   "name": "python3"
  },
  "language_info": {
   "codemirror_mode": {
    "name": "ipython",
    "version": 2
   },
   "file_extension": ".py",
   "mimetype": "text/x-python",
   "name": "python",
   "nbconvert_exporter": "python",
   "pygments_lexer": "ipython2",
   "version": "2.7.6"
  }
 },
 "nbformat": 4,
 "nbformat_minor": 0
}
