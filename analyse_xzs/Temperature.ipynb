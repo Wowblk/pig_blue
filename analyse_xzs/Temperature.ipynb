{
 "cells": [
  {
   "cell_type": "code",
   "execution_count": 1,
   "metadata": {
    "collapsed": true
   },
   "outputs": [],
   "source": [
    "import pandas as pd\n",
    "import matplotlib.pyplot as plt\n",
    "import matplotlib.ticker as ticker\n",
    "import seaborn as sns"
   ]
  },
  {
   "cell_type": "code",
   "execution_count": 4,
   "outputs": [
    {
     "data": {
      "text/plain": "     ObjectId                Country/Region ISO2 ISO3  \\\n0           1  Afghanistan, Islamic Rep. of   AF  AFG   \n1           2                       Albania   AL  ALB   \n2           3                       Algeria   DZ  DZA   \n3           4                American Samoa   AS  ASM   \n4           5      Andorra, Principality of   AD  AND   \n..        ...                           ...  ...  ...   \n222       223                Western Sahara   EH  ESH   \n223       224                         World  NaN  WLD   \n224       225                Yemen, Rep. of   YE  YEM   \n225       226                        Zambia   ZM  ZMB   \n226       230                      Zimbabwe   ZW  ZWE   \n\n                                             Indicator            Unit  \\\n0    Temperature change with respect to a baseline ...  Degree Celsius   \n1    Temperature change with respect to a baseline ...  Degree Celsius   \n2    Temperature change with respect to a baseline ...  Degree Celsius   \n3    Temperature change with respect to a baseline ...  Degree Celsius   \n4    Temperature change with respect to a baseline ...  Degree Celsius   \n..                                                 ...             ...   \n222  Temperature change with respect to a baseline ...  Degree Celsius   \n223  Temperature change with respect to a baseline ...  Degree Celsius   \n224  Temperature change with respect to a baseline ...  Degree Celsius   \n225  Temperature change with respect to a baseline ...  Degree Celsius   \n226  Temperature change with respect to a baseline ...  Degree Celsius   \n\n                                                Source CTS_Code  \\\n0    Food and Agriculture Organization of the Unite...     ECCS   \n1    Food and Agriculture Organization of the Unite...     ECCS   \n2    Food and Agriculture Organization of the Unite...     ECCS   \n3    Food and Agriculture Organization of the Unite...     ECCS   \n4    Food and Agriculture Organization of the Unite...     ECCS   \n..                                                 ...      ...   \n222  Food and Agriculture Organization of the Unite...     ECCS   \n223  Food and Agriculture Organization of the Unite...     ECCS   \n224  Food and Agriculture Organization of the Unite...     ECCS   \n225  Food and Agriculture Organization of the Unite...     ECCS   \n226  Food and Agriculture Organization of the Unite...     ECCS   \n\n                       CTS_Name  \\\n0    Surface Temperature Change   \n1    Surface Temperature Change   \n2    Surface Temperature Change   \n3    Surface Temperature Change   \n4    Surface Temperature Change   \n..                          ...   \n222  Surface Temperature Change   \n223  Surface Temperature Change   \n224  Surface Temperature Change   \n225  Surface Temperature Change   \n226  Surface Temperature Change   \n\n                                   CTS_Full_Descriptor  ...  F2012  F2013  \\\n0    Environment, Climate Change, Climate Indicator...  ...  0.234  1.308   \n1    Environment, Climate Change, Climate Indicator...  ...  1.568  1.444   \n2    Environment, Climate Change, Climate Indicator...  ...  1.128  1.173   \n3    Environment, Climate Change, Climate Indicator...  ...  0.646  0.883   \n4    Environment, Climate Change, Climate Indicator...  ...  1.196  0.757   \n..                                                 ...  ...    ...    ...   \n222  Environment, Climate Change, Climate Indicator...  ...  1.234  1.282   \n223  Environment, Climate Change, Climate Indicator...  ...  1.058  1.007   \n224  Environment, Climate Change, Climate Indicator...  ...    NaN    NaN   \n225  Environment, Climate Change, Climate Indicator...  ...  0.926  0.746   \n226  Environment, Climate Change, Climate Indicator...  ...  0.329  0.102   \n\n     F2014  F2015  F2016  F2017  F2018  F2019  F2020  F2021  \n0    0.457  1.101  1.607  1.568  1.580  0.960  0.544  1.421  \n1    1.322  1.665  1.601  1.269  2.146  1.823  1.623  1.682  \n2    1.676  1.101  1.736  1.498  1.211  1.094  1.913  2.317  \n3    0.554  0.394  0.924  0.820  0.574  0.924  0.815  0.653  \n4    1.857  1.546  1.830  1.771  1.761  1.813  2.401  1.367  \n..     ...    ...    ...    ...    ...    ...    ...    ...  \n222  1.244  1.277  1.636  2.078  0.851  1.430  2.026  1.557  \n223  1.042  1.406  1.658  1.424  1.284  1.449  1.713  1.442  \n224    NaN    NaN    NaN    NaN    NaN    NaN    NaN    NaN  \n225  0.638  1.486  1.474  0.721  0.727  1.295  1.252  1.002  \n226 -0.008  0.808  1.051  0.116  0.405  0.939  0.415 -0.101  \n\n[227 rows x 71 columns]",
      "text/html": "<div>\n<style scoped>\n    .dataframe tbody tr th:only-of-type {\n        vertical-align: middle;\n    }\n\n    .dataframe tbody tr th {\n        vertical-align: top;\n    }\n\n    .dataframe thead th {\n        text-align: right;\n    }\n</style>\n<table border=\"1\" class=\"dataframe\">\n  <thead>\n    <tr style=\"text-align: right;\">\n      <th></th>\n      <th>ObjectId</th>\n      <th>Country/Region</th>\n      <th>ISO2</th>\n      <th>ISO3</th>\n      <th>Indicator</th>\n      <th>Unit</th>\n      <th>Source</th>\n      <th>CTS_Code</th>\n      <th>CTS_Name</th>\n      <th>CTS_Full_Descriptor</th>\n      <th>...</th>\n      <th>F2012</th>\n      <th>F2013</th>\n      <th>F2014</th>\n      <th>F2015</th>\n      <th>F2016</th>\n      <th>F2017</th>\n      <th>F2018</th>\n      <th>F2019</th>\n      <th>F2020</th>\n      <th>F2021</th>\n    </tr>\n  </thead>\n  <tbody>\n    <tr>\n      <th>0</th>\n      <td>1</td>\n      <td>Afghanistan, Islamic Rep. of</td>\n      <td>AF</td>\n      <td>AFG</td>\n      <td>Temperature change with respect to a baseline ...</td>\n      <td>Degree Celsius</td>\n      <td>Food and Agriculture Organization of the Unite...</td>\n      <td>ECCS</td>\n      <td>Surface Temperature Change</td>\n      <td>Environment, Climate Change, Climate Indicator...</td>\n      <td>...</td>\n      <td>0.234</td>\n      <td>1.308</td>\n      <td>0.457</td>\n      <td>1.101</td>\n      <td>1.607</td>\n      <td>1.568</td>\n      <td>1.580</td>\n      <td>0.960</td>\n      <td>0.544</td>\n      <td>1.421</td>\n    </tr>\n    <tr>\n      <th>1</th>\n      <td>2</td>\n      <td>Albania</td>\n      <td>AL</td>\n      <td>ALB</td>\n      <td>Temperature change with respect to a baseline ...</td>\n      <td>Degree Celsius</td>\n      <td>Food and Agriculture Organization of the Unite...</td>\n      <td>ECCS</td>\n      <td>Surface Temperature Change</td>\n      <td>Environment, Climate Change, Climate Indicator...</td>\n      <td>...</td>\n      <td>1.568</td>\n      <td>1.444</td>\n      <td>1.322</td>\n      <td>1.665</td>\n      <td>1.601</td>\n      <td>1.269</td>\n      <td>2.146</td>\n      <td>1.823</td>\n      <td>1.623</td>\n      <td>1.682</td>\n    </tr>\n    <tr>\n      <th>2</th>\n      <td>3</td>\n      <td>Algeria</td>\n      <td>DZ</td>\n      <td>DZA</td>\n      <td>Temperature change with respect to a baseline ...</td>\n      <td>Degree Celsius</td>\n      <td>Food and Agriculture Organization of the Unite...</td>\n      <td>ECCS</td>\n      <td>Surface Temperature Change</td>\n      <td>Environment, Climate Change, Climate Indicator...</td>\n      <td>...</td>\n      <td>1.128</td>\n      <td>1.173</td>\n      <td>1.676</td>\n      <td>1.101</td>\n      <td>1.736</td>\n      <td>1.498</td>\n      <td>1.211</td>\n      <td>1.094</td>\n      <td>1.913</td>\n      <td>2.317</td>\n    </tr>\n    <tr>\n      <th>3</th>\n      <td>4</td>\n      <td>American Samoa</td>\n      <td>AS</td>\n      <td>ASM</td>\n      <td>Temperature change with respect to a baseline ...</td>\n      <td>Degree Celsius</td>\n      <td>Food and Agriculture Organization of the Unite...</td>\n      <td>ECCS</td>\n      <td>Surface Temperature Change</td>\n      <td>Environment, Climate Change, Climate Indicator...</td>\n      <td>...</td>\n      <td>0.646</td>\n      <td>0.883</td>\n      <td>0.554</td>\n      <td>0.394</td>\n      <td>0.924</td>\n      <td>0.820</td>\n      <td>0.574</td>\n      <td>0.924</td>\n      <td>0.815</td>\n      <td>0.653</td>\n    </tr>\n    <tr>\n      <th>4</th>\n      <td>5</td>\n      <td>Andorra, Principality of</td>\n      <td>AD</td>\n      <td>AND</td>\n      <td>Temperature change with respect to a baseline ...</td>\n      <td>Degree Celsius</td>\n      <td>Food and Agriculture Organization of the Unite...</td>\n      <td>ECCS</td>\n      <td>Surface Temperature Change</td>\n      <td>Environment, Climate Change, Climate Indicator...</td>\n      <td>...</td>\n      <td>1.196</td>\n      <td>0.757</td>\n      <td>1.857</td>\n      <td>1.546</td>\n      <td>1.830</td>\n      <td>1.771</td>\n      <td>1.761</td>\n      <td>1.813</td>\n      <td>2.401</td>\n      <td>1.367</td>\n    </tr>\n    <tr>\n      <th>...</th>\n      <td>...</td>\n      <td>...</td>\n      <td>...</td>\n      <td>...</td>\n      <td>...</td>\n      <td>...</td>\n      <td>...</td>\n      <td>...</td>\n      <td>...</td>\n      <td>...</td>\n      <td>...</td>\n      <td>...</td>\n      <td>...</td>\n      <td>...</td>\n      <td>...</td>\n      <td>...</td>\n      <td>...</td>\n      <td>...</td>\n      <td>...</td>\n      <td>...</td>\n      <td>...</td>\n    </tr>\n    <tr>\n      <th>222</th>\n      <td>223</td>\n      <td>Western Sahara</td>\n      <td>EH</td>\n      <td>ESH</td>\n      <td>Temperature change with respect to a baseline ...</td>\n      <td>Degree Celsius</td>\n      <td>Food and Agriculture Organization of the Unite...</td>\n      <td>ECCS</td>\n      <td>Surface Temperature Change</td>\n      <td>Environment, Climate Change, Climate Indicator...</td>\n      <td>...</td>\n      <td>1.234</td>\n      <td>1.282</td>\n      <td>1.244</td>\n      <td>1.277</td>\n      <td>1.636</td>\n      <td>2.078</td>\n      <td>0.851</td>\n      <td>1.430</td>\n      <td>2.026</td>\n      <td>1.557</td>\n    </tr>\n    <tr>\n      <th>223</th>\n      <td>224</td>\n      <td>World</td>\n      <td>NaN</td>\n      <td>WLD</td>\n      <td>Temperature change with respect to a baseline ...</td>\n      <td>Degree Celsius</td>\n      <td>Food and Agriculture Organization of the Unite...</td>\n      <td>ECCS</td>\n      <td>Surface Temperature Change</td>\n      <td>Environment, Climate Change, Climate Indicator...</td>\n      <td>...</td>\n      <td>1.058</td>\n      <td>1.007</td>\n      <td>1.042</td>\n      <td>1.406</td>\n      <td>1.658</td>\n      <td>1.424</td>\n      <td>1.284</td>\n      <td>1.449</td>\n      <td>1.713</td>\n      <td>1.442</td>\n    </tr>\n    <tr>\n      <th>224</th>\n      <td>225</td>\n      <td>Yemen, Rep. of</td>\n      <td>YE</td>\n      <td>YEM</td>\n      <td>Temperature change with respect to a baseline ...</td>\n      <td>Degree Celsius</td>\n      <td>Food and Agriculture Organization of the Unite...</td>\n      <td>ECCS</td>\n      <td>Surface Temperature Change</td>\n      <td>Environment, Climate Change, Climate Indicator...</td>\n      <td>...</td>\n      <td>NaN</td>\n      <td>NaN</td>\n      <td>NaN</td>\n      <td>NaN</td>\n      <td>NaN</td>\n      <td>NaN</td>\n      <td>NaN</td>\n      <td>NaN</td>\n      <td>NaN</td>\n      <td>NaN</td>\n    </tr>\n    <tr>\n      <th>225</th>\n      <td>226</td>\n      <td>Zambia</td>\n      <td>ZM</td>\n      <td>ZMB</td>\n      <td>Temperature change with respect to a baseline ...</td>\n      <td>Degree Celsius</td>\n      <td>Food and Agriculture Organization of the Unite...</td>\n      <td>ECCS</td>\n      <td>Surface Temperature Change</td>\n      <td>Environment, Climate Change, Climate Indicator...</td>\n      <td>...</td>\n      <td>0.926</td>\n      <td>0.746</td>\n      <td>0.638</td>\n      <td>1.486</td>\n      <td>1.474</td>\n      <td>0.721</td>\n      <td>0.727</td>\n      <td>1.295</td>\n      <td>1.252</td>\n      <td>1.002</td>\n    </tr>\n    <tr>\n      <th>226</th>\n      <td>230</td>\n      <td>Zimbabwe</td>\n      <td>ZW</td>\n      <td>ZWE</td>\n      <td>Temperature change with respect to a baseline ...</td>\n      <td>Degree Celsius</td>\n      <td>Food and Agriculture Organization of the Unite...</td>\n      <td>ECCS</td>\n      <td>Surface Temperature Change</td>\n      <td>Environment, Climate Change, Climate Indicator...</td>\n      <td>...</td>\n      <td>0.329</td>\n      <td>0.102</td>\n      <td>-0.008</td>\n      <td>0.808</td>\n      <td>1.051</td>\n      <td>0.116</td>\n      <td>0.405</td>\n      <td>0.939</td>\n      <td>0.415</td>\n      <td>-0.101</td>\n    </tr>\n  </tbody>\n</table>\n<p>227 rows × 71 columns</p>\n</div>"
     },
     "execution_count": 4,
     "metadata": {},
     "output_type": "execute_result"
    }
   ],
   "source": [
    "temperature = pd.read_csv(\"/Users/wowblk/Desktop/数据集/全球年度地表温度变化数据/Temp.csv\")\n",
    "temperature"
   ],
   "metadata": {
    "collapsed": false
   }
  },
  {
   "cell_type": "code",
   "execution_count": null,
   "outputs": [],
   "source": [],
   "metadata": {
    "collapsed": false
   }
  }
 ],
 "metadata": {
  "kernelspec": {
   "display_name": "Python 3",
   "language": "python",
   "name": "python3"
  },
  "language_info": {
   "codemirror_mode": {
    "name": "ipython",
    "version": 2
   },
   "file_extension": ".py",
   "mimetype": "text/x-python",
   "name": "python",
   "nbconvert_exporter": "python",
   "pygments_lexer": "ipython2",
   "version": "2.7.6"
  }
 },
 "nbformat": 4,
 "nbformat_minor": 0
}
