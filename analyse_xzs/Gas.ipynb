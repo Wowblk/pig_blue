{
 "cells": [
  {
   "cell_type": "code",
   "execution_count": 1,
   "metadata": {
    "collapsed": true,
    "pycharm": {
     "name": "#%%\n"
    }
   },
   "outputs": [],
   "source": [
    "import pandas as pd\n",
    "import matplotlib.pyplot as plt\n",
    "import matplotlib.ticker as ticker\n",
    "import seaborn as sns\n",
    "import matplotlib\n",
    "matplotlib.rc(\"font\",family='SimHei')\n",
    "matplotlib.rcParams['axes.unicode_minus']=False"
   ]
  },
  {
   "cell_type": "code",
   "execution_count": 3,
   "outputs": [
    {
     "data": {
      "text/plain": "      ObjectId2      Country/Region  ISO2   ISO3  \\\n0             1  Advanced Economies   NaN  AETMP   \n1             2  Advanced Economies   NaN  AETMP   \n2             3  Advanced Economies   NaN  AETMP   \n3             4  Advanced Economies   NaN  AETMP   \n4             5  Advanced Economies   NaN  AETMP   \n...         ...                 ...   ...    ...   \n1134       1254               World   NaN    WLD   \n1135       1255               World   NaN    WLD   \n1136       1256               World   NaN    WLD   \n1137       1257               World   NaN    WLD   \n1138       1258               World   NaN    WLD   \n\n                                              Indicator  \\\n0     Annual greenhouse gas (GHG) air emissions acco...   \n1     Annual greenhouse gas (GHG) air emissions acco...   \n2     Annual greenhouse gas (GHG) air emissions acco...   \n3     Annual greenhouse gas (GHG) air emissions acco...   \n4     Annual greenhouse gas (GHG) air emissions acco...   \n...                                                 ...   \n1134  Annual greenhouse gas (GHG) air emissions acco...   \n1135  Annual greenhouse gas (GHG) air emissions acco...   \n1136  Annual greenhouse gas (GHG) air emissions acco...   \n1137  Annual greenhouse gas (GHG) air emissions acco...   \n1138  Annual greenhouse gas (GHG) air emissions acco...   \n\n                                       Unit  \\\n0     Million metric tons of CO2 equivalent   \n1     Million metric tons of CO2 equivalent   \n2     Million metric tons of CO2 equivalent   \n3     Million metric tons of CO2 equivalent   \n4     Million metric tons of CO2 equivalent   \n...                                     ...   \n1134  Million metric tons of CO2 equivalent   \n1135  Million metric tons of CO2 equivalent   \n1136  Million metric tons of CO2 equivalent   \n1137  Million metric tons of CO2 equivalent   \n1138  Million metric tons of CO2 equivalent   \n\n                                                 Source CTS_Code  \\\n0     Organisation for Economic Co-operation and Dev...    ECNGA   \n1     Organisation for Economic Co-operation and Dev...    ECNGA   \n2     Organisation for Economic Co-operation and Dev...    ECNGA   \n3     Organisation for Economic Co-operation and Dev...    ECNGA   \n4     Organisation for Economic Co-operation and Dev...    ECNGA   \n...                                                 ...      ...   \n1134  Organisation for Economic Co-operation and Dev...    ECNGA   \n1135  Organisation for Economic Co-operation and Dev...    ECNGA   \n1136  Organisation for Economic Co-operation and Dev...    ECNGA   \n1137  Organisation for Economic Co-operation and Dev...    ECNGA   \n1138  Organisation for Economic Co-operation and Dev...    ECNGA   \n\n                                               CTS_Name  \\\n0     Greenhouse Gas Emissions (GHG); Air Emissions ...   \n1     Greenhouse Gas Emissions (GHG); Air Emissions ...   \n2     Greenhouse Gas Emissions (GHG); Air Emissions ...   \n3     Greenhouse Gas Emissions (GHG); Air Emissions ...   \n4     Greenhouse Gas Emissions (GHG); Air Emissions ...   \n...                                                 ...   \n1134  Greenhouse Gas Emissions (GHG); Air Emissions ...   \n1135  Greenhouse Gas Emissions (GHG); Air Emissions ...   \n1136  Greenhouse Gas Emissions (GHG); Air Emissions ...   \n1137  Greenhouse Gas Emissions (GHG); Air Emissions ...   \n1138  Greenhouse Gas Emissions (GHG); Air Emissions ...   \n\n                                    CTS_Full_Descriptor  ...        F2012  \\\n0     Environment, Climate Change, Economic Activity...  ...   191.474222   \n1     Environment, Climate Change, Economic Activity...  ...     0.760913   \n2     Environment, Climate Change, Economic Activity...  ...  1324.126567   \n3     Environment, Climate Change, Economic Activity...  ...   604.039665   \n4     Environment, Climate Change, Economic Activity...  ...   527.851767   \n...                                                 ...  ...          ...   \n1134  Environment, Climate Change, Economic Activity...  ...   191.105036   \n1135  Environment, Climate Change, Economic Activity...  ...     7.727686   \n1136  Environment, Climate Change, Economic Activity...  ...  2457.390393   \n1137  Environment, Climate Change, Economic Activity...  ...  2134.927477   \n1138  Environment, Climate Change, Economic Activity...  ...   123.630194   \n\n            F2013        F2014        F2015        F2016        F2017  \\\n0      189.086091   189.617437   191.657071   193.568495   193.794399   \n1        0.686725     0.641152     0.694193     0.649161     0.629175   \n2     1367.184515  1382.271817  1389.855475  1379.580179  1385.725479   \n3      600.311119   600.592452   606.028724   612.034928   617.563879   \n4      577.100579   591.420776   591.475487   573.327595   573.738026   \n...           ...          ...          ...          ...          ...   \n1134   194.583166   201.130140   206.914271   209.619698   214.413824   \n1135     8.452122     9.124562     9.797645    10.821237    11.955234   \n1136  2487.705752  2532.867707  2568.942970  2598.885650  2646.642135   \n1137  2158.013304  2194.194828  2221.778468  2245.352351  2284.532658   \n1138   126.657161   128.418178   130.452586   133.092363   135.740420   \n\n            F2018        F2019        F2020        F2021  \n0      192.378730   193.144276   185.830471   189.489504  \n1        0.594310     0.580705     0.581687     0.599934  \n2     1393.030334  1392.513388  1354.925652  1346.210276  \n3      619.379502   613.195224   610.516451   591.932630  \n4      580.677791   585.593183   557.997044   564.188209  \n...           ...          ...          ...          ...  \n1134   221.538822   226.890149   227.614037   231.123864  \n1135    12.755081    12.976878    13.016036    13.013980  \n1136  2702.936727  2749.890898  2802.770258  2837.169023  \n1137  2331.206270  2370.732659  2421.191521  2448.815521  \n1138   137.436554   139.291213   140.948663   144.215657  \n\n[1139 rows x 25 columns]",
      "text/html": "<div>\n<style scoped>\n    .dataframe tbody tr th:only-of-type {\n        vertical-align: middle;\n    }\n\n    .dataframe tbody tr th {\n        vertical-align: top;\n    }\n\n    .dataframe thead th {\n        text-align: right;\n    }\n</style>\n<table border=\"1\" class=\"dataframe\">\n  <thead>\n    <tr style=\"text-align: right;\">\n      <th></th>\n      <th>ObjectId2</th>\n      <th>Country/Region</th>\n      <th>ISO2</th>\n      <th>ISO3</th>\n      <th>Indicator</th>\n      <th>Unit</th>\n      <th>Source</th>\n      <th>CTS_Code</th>\n      <th>CTS_Name</th>\n      <th>CTS_Full_Descriptor</th>\n      <th>...</th>\n      <th>F2012</th>\n      <th>F2013</th>\n      <th>F2014</th>\n      <th>F2015</th>\n      <th>F2016</th>\n      <th>F2017</th>\n      <th>F2018</th>\n      <th>F2019</th>\n      <th>F2020</th>\n      <th>F2021</th>\n    </tr>\n  </thead>\n  <tbody>\n    <tr>\n      <th>0</th>\n      <td>1</td>\n      <td>Advanced Economies</td>\n      <td>NaN</td>\n      <td>AETMP</td>\n      <td>Annual greenhouse gas (GHG) air emissions acco...</td>\n      <td>Million metric tons of CO2 equivalent</td>\n      <td>Organisation for Economic Co-operation and Dev...</td>\n      <td>ECNGA</td>\n      <td>Greenhouse Gas Emissions (GHG); Air Emissions ...</td>\n      <td>Environment, Climate Change, Economic Activity...</td>\n      <td>...</td>\n      <td>191.474222</td>\n      <td>189.086091</td>\n      <td>189.617437</td>\n      <td>191.657071</td>\n      <td>193.568495</td>\n      <td>193.794399</td>\n      <td>192.378730</td>\n      <td>193.144276</td>\n      <td>185.830471</td>\n      <td>189.489504</td>\n    </tr>\n    <tr>\n      <th>1</th>\n      <td>2</td>\n      <td>Advanced Economies</td>\n      <td>NaN</td>\n      <td>AETMP</td>\n      <td>Annual greenhouse gas (GHG) air emissions acco...</td>\n      <td>Million metric tons of CO2 equivalent</td>\n      <td>Organisation for Economic Co-operation and Dev...</td>\n      <td>ECNGA</td>\n      <td>Greenhouse Gas Emissions (GHG); Air Emissions ...</td>\n      <td>Environment, Climate Change, Economic Activity...</td>\n      <td>...</td>\n      <td>0.760913</td>\n      <td>0.686725</td>\n      <td>0.641152</td>\n      <td>0.694193</td>\n      <td>0.649161</td>\n      <td>0.629175</td>\n      <td>0.594310</td>\n      <td>0.580705</td>\n      <td>0.581687</td>\n      <td>0.599934</td>\n    </tr>\n    <tr>\n      <th>2</th>\n      <td>3</td>\n      <td>Advanced Economies</td>\n      <td>NaN</td>\n      <td>AETMP</td>\n      <td>Annual greenhouse gas (GHG) air emissions acco...</td>\n      <td>Million metric tons of CO2 equivalent</td>\n      <td>Organisation for Economic Co-operation and Dev...</td>\n      <td>ECNGA</td>\n      <td>Greenhouse Gas Emissions (GHG); Air Emissions ...</td>\n      <td>Environment, Climate Change, Economic Activity...</td>\n      <td>...</td>\n      <td>1324.126567</td>\n      <td>1367.184515</td>\n      <td>1382.271817</td>\n      <td>1389.855475</td>\n      <td>1379.580179</td>\n      <td>1385.725479</td>\n      <td>1393.030334</td>\n      <td>1392.513388</td>\n      <td>1354.925652</td>\n      <td>1346.210276</td>\n    </tr>\n    <tr>\n      <th>3</th>\n      <td>4</td>\n      <td>Advanced Economies</td>\n      <td>NaN</td>\n      <td>AETMP</td>\n      <td>Annual greenhouse gas (GHG) air emissions acco...</td>\n      <td>Million metric tons of CO2 equivalent</td>\n      <td>Organisation for Economic Co-operation and Dev...</td>\n      <td>ECNGA</td>\n      <td>Greenhouse Gas Emissions (GHG); Air Emissions ...</td>\n      <td>Environment, Climate Change, Economic Activity...</td>\n      <td>...</td>\n      <td>604.039665</td>\n      <td>600.311119</td>\n      <td>600.592452</td>\n      <td>606.028724</td>\n      <td>612.034928</td>\n      <td>617.563879</td>\n      <td>619.379502</td>\n      <td>613.195224</td>\n      <td>610.516451</td>\n      <td>591.932630</td>\n    </tr>\n    <tr>\n      <th>4</th>\n      <td>5</td>\n      <td>Advanced Economies</td>\n      <td>NaN</td>\n      <td>AETMP</td>\n      <td>Annual greenhouse gas (GHG) air emissions acco...</td>\n      <td>Million metric tons of CO2 equivalent</td>\n      <td>Organisation for Economic Co-operation and Dev...</td>\n      <td>ECNGA</td>\n      <td>Greenhouse Gas Emissions (GHG); Air Emissions ...</td>\n      <td>Environment, Climate Change, Economic Activity...</td>\n      <td>...</td>\n      <td>527.851767</td>\n      <td>577.100579</td>\n      <td>591.420776</td>\n      <td>591.475487</td>\n      <td>573.327595</td>\n      <td>573.738026</td>\n      <td>580.677791</td>\n      <td>585.593183</td>\n      <td>557.997044</td>\n      <td>564.188209</td>\n    </tr>\n    <tr>\n      <th>...</th>\n      <td>...</td>\n      <td>...</td>\n      <td>...</td>\n      <td>...</td>\n      <td>...</td>\n      <td>...</td>\n      <td>...</td>\n      <td>...</td>\n      <td>...</td>\n      <td>...</td>\n      <td>...</td>\n      <td>...</td>\n      <td>...</td>\n      <td>...</td>\n      <td>...</td>\n      <td>...</td>\n      <td>...</td>\n      <td>...</td>\n      <td>...</td>\n      <td>...</td>\n      <td>...</td>\n    </tr>\n    <tr>\n      <th>1134</th>\n      <td>1254</td>\n      <td>World</td>\n      <td>NaN</td>\n      <td>WLD</td>\n      <td>Annual greenhouse gas (GHG) air emissions acco...</td>\n      <td>Million metric tons of CO2 equivalent</td>\n      <td>Organisation for Economic Co-operation and Dev...</td>\n      <td>ECNGA</td>\n      <td>Greenhouse Gas Emissions (GHG); Air Emissions ...</td>\n      <td>Environment, Climate Change, Economic Activity...</td>\n      <td>...</td>\n      <td>191.105036</td>\n      <td>194.583166</td>\n      <td>201.130140</td>\n      <td>206.914271</td>\n      <td>209.619698</td>\n      <td>214.413824</td>\n      <td>221.538822</td>\n      <td>226.890149</td>\n      <td>227.614037</td>\n      <td>231.123864</td>\n    </tr>\n    <tr>\n      <th>1135</th>\n      <td>1255</td>\n      <td>World</td>\n      <td>NaN</td>\n      <td>WLD</td>\n      <td>Annual greenhouse gas (GHG) air emissions acco...</td>\n      <td>Million metric tons of CO2 equivalent</td>\n      <td>Organisation for Economic Co-operation and Dev...</td>\n      <td>ECNGA</td>\n      <td>Greenhouse Gas Emissions (GHG); Air Emissions ...</td>\n      <td>Environment, Climate Change, Economic Activity...</td>\n      <td>...</td>\n      <td>7.727686</td>\n      <td>8.452122</td>\n      <td>9.124562</td>\n      <td>9.797645</td>\n      <td>10.821237</td>\n      <td>11.955234</td>\n      <td>12.755081</td>\n      <td>12.976878</td>\n      <td>13.016036</td>\n      <td>13.013980</td>\n    </tr>\n    <tr>\n      <th>1136</th>\n      <td>1256</td>\n      <td>World</td>\n      <td>NaN</td>\n      <td>WLD</td>\n      <td>Annual greenhouse gas (GHG) air emissions acco...</td>\n      <td>Million metric tons of CO2 equivalent</td>\n      <td>Organisation for Economic Co-operation and Dev...</td>\n      <td>ECNGA</td>\n      <td>Greenhouse Gas Emissions (GHG); Air Emissions ...</td>\n      <td>Environment, Climate Change, Economic Activity...</td>\n      <td>...</td>\n      <td>2457.390393</td>\n      <td>2487.705752</td>\n      <td>2532.867707</td>\n      <td>2568.942970</td>\n      <td>2598.885650</td>\n      <td>2646.642135</td>\n      <td>2702.936727</td>\n      <td>2749.890898</td>\n      <td>2802.770258</td>\n      <td>2837.169023</td>\n    </tr>\n    <tr>\n      <th>1137</th>\n      <td>1257</td>\n      <td>World</td>\n      <td>NaN</td>\n      <td>WLD</td>\n      <td>Annual greenhouse gas (GHG) air emissions acco...</td>\n      <td>Million metric tons of CO2 equivalent</td>\n      <td>Organisation for Economic Co-operation and Dev...</td>\n      <td>ECNGA</td>\n      <td>Greenhouse Gas Emissions (GHG); Air Emissions ...</td>\n      <td>Environment, Climate Change, Economic Activity...</td>\n      <td>...</td>\n      <td>2134.927477</td>\n      <td>2158.013304</td>\n      <td>2194.194828</td>\n      <td>2221.778468</td>\n      <td>2245.352351</td>\n      <td>2284.532658</td>\n      <td>2331.206270</td>\n      <td>2370.732659</td>\n      <td>2421.191521</td>\n      <td>2448.815521</td>\n    </tr>\n    <tr>\n      <th>1138</th>\n      <td>1258</td>\n      <td>World</td>\n      <td>NaN</td>\n      <td>WLD</td>\n      <td>Annual greenhouse gas (GHG) air emissions acco...</td>\n      <td>Million metric tons of CO2 equivalent</td>\n      <td>Organisation for Economic Co-operation and Dev...</td>\n      <td>ECNGA</td>\n      <td>Greenhouse Gas Emissions (GHG); Air Emissions ...</td>\n      <td>Environment, Climate Change, Economic Activity...</td>\n      <td>...</td>\n      <td>123.630194</td>\n      <td>126.657161</td>\n      <td>128.418178</td>\n      <td>130.452586</td>\n      <td>133.092363</td>\n      <td>135.740420</td>\n      <td>137.436554</td>\n      <td>139.291213</td>\n      <td>140.948663</td>\n      <td>144.215657</td>\n    </tr>\n  </tbody>\n</table>\n<p>1139 rows × 25 columns</p>\n</div>"
     },
     "execution_count": 3,
     "metadata": {},
     "output_type": "execute_result"
    }
   ],
   "source": [
    "gas = pd.read_csv(\"./data/Greenhouse_Gas.csv\")\n",
    "gas"
   ],
   "metadata": {
    "collapsed": false,
    "pycharm": {
     "name": "#%%\n"
    }
   }
  },
  {
   "cell_type": "code",
   "execution_count": 4,
   "outputs": [
    {
     "name": "stdout",
     "output_type": "stream",
     "text": [
      "Carbon dioxide       240\n",
      "Greenhouse gas       240\n",
      "Methane              240\n",
      "Nitrous oxide        240\n",
      "Fluorinated gases    179\n",
      "Name: Gas_Type, dtype: int64\n"
     ]
    }
   ],
   "source": [
    "print(gas['Gas_Type'].value_counts())"
   ],
   "metadata": {
    "collapsed": false,
    "pycharm": {
     "name": "#%%\n"
    }
   }
  },
  {
   "cell_type": "code",
   "execution_count": null,
   "outputs": [],
   "source": [],
   "metadata": {
    "collapsed": false,
    "pycharm": {
     "name": "#%%\n"
    }
   }
  }
 ],
 "metadata": {
  "kernelspec": {
   "display_name": "Python 3",
   "language": "python",
   "name": "python3"
  },
  "language_info": {
   "codemirror_mode": {
    "name": "ipython",
    "version": 2
   },
   "file_extension": ".py",
   "mimetype": "text/x-python",
   "name": "python",
   "nbconvert_exporter": "python",
   "pygments_lexer": "ipython2",
   "version": "2.7.6"
  }
 },
 "nbformat": 4,
 "nbformat_minor": 0
}